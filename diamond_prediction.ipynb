{
  "nbformat": 4,
  "nbformat_minor": 0,
  "metadata": {
    "colab": {
      "provenance": [],
      "mount_file_id": "1vG1c1shgyklBRAwlWGxfLUmN9JF2nxde",
      "authorship_tag": "ABX9TyMMAEPSfzhp0BGNNhJcP5A1",
      "include_colab_link": true
    },
    "kernelspec": {
      "name": "python3",
      "display_name": "Python 3"
    },
    "language_info": {
      "name": "python"
    }
  },
  "cells": [
    {
      "cell_type": "markdown",
      "metadata": {
        "id": "view-in-github",
        "colab_type": "text"
      },
      "source": [
        "<a href=\"https://colab.research.google.com/github/sylviayanz/2023-Predictive-Analytics/blob/main/diamond_prediction.ipynb\" target=\"_parent\"><img src=\"https://colab.research.google.com/assets/colab-badge.svg\" alt=\"Open In Colab\"/></a>"
      ]
    },
    {
      "cell_type": "code",
      "source": [
        "import pandas as pd\n",
        "import numpy as np\n",
        "import seaborn as sns\n",
        "\n",
        "\n",
        "from sklearn.linear_model import LinearRegression\n",
        "from sklearn.tree import DecisionTreeRegressor\n",
        "from sklearn.ensemble import RandomForestRegressor\n",
        "from xgboost import XGBRegressor\n",
        "from sklearn.metrics import mean_squared_error, r2_score, mean_absolute_error, accuracy_score\n",
        "from math import sqrt\n",
        "from sklearn.model_selection import train_test_split\n",
        "from sklearn import metrics\n",
        "\n",
        "sns.set()"
      ],
      "metadata": {
        "id": "hTz-AEO7O2MC"
      },
      "execution_count": 19,
      "outputs": []
    },
    {
      "cell_type": "code",
      "source": [
        "model = '/content/drive/MyDrive/LaGuardia Class/assignment/decision_tree.pkl'"
      ],
      "metadata": {
        "id": "OvRI29y0xiwW"
      },
      "execution_count": 20,
      "outputs": []
    },
    {
      "cell_type": "code",
      "source": [
        "import pickle\n",
        "\n",
        "# Load the saved Decision Tree model\n",
        "with open(model, 'rb') as file:\n",
        "    model = pickle.load(file)\n"
      ],
      "metadata": {
        "id": "jYcyzYcePBND"
      },
      "execution_count": 21,
      "outputs": []
    },
    {
      "cell_type": "code",
      "source": [
        "test_x = np.zeros((1,26))\n",
        "test_x"
      ],
      "metadata": {
        "colab": {
          "base_uri": "https://localhost:8080/"
        },
        "id": "ocCfCkMb4UEL",
        "outputId": "1101e755-2c4e-4143-b075-6ee4a218ee15"
      },
      "execution_count": 22,
      "outputs": [
        {
          "output_type": "execute_result",
          "data": {
            "text/plain": [
              "array([[0., 0., 0., 0., 0., 0., 0., 0., 0., 0., 0., 0., 0., 0., 0., 0.,\n",
              "        0., 0., 0., 0., 0., 0., 0., 0., 0., 0.]])"
            ]
          },
          "metadata": {},
          "execution_count": 22
        }
      ]
    },
    {
      "cell_type": "code",
      "source": [
        "#data.loc[10]-->price = 339.0\n",
        "\n",
        "test_x = np.zeros((1, 26))\n",
        "\n",
        "test_x[0, 0] = 0.30     # carat\n",
        "test_x[0, 1] = 64.00    # depth\n",
        "test_x[0, 2] = 55.00    # table\n",
        "test_x[0, 3] = 4.25     # x\n",
        "test_x[0, 4] = 4.28     # y\n",
        "test_x[0, 5] = 2.73     # z\n",
        "test_x[0, 6] = 0.00     # cut_Fair\n",
        "test_x[0, 7] = 1.00     # cut_Good\n",
        "test_x[0, 8] = 0.00     # cut_Ideal\n",
        "test_x[0, 9] = 0.00     # cut_Premium\n",
        "test_x[0, 10] = 0.00    # cut_Very Good\n",
        "test_x[0, 11] = 0.00    # color_D\n",
        "test_x[0, 12] = 0.00    # color_E\n",
        "test_x[0, 13] = 0.00    # color_F\n",
        "test_x[0, 14] = 0.00    # color_G\n",
        "test_x[0, 15] = 0.00    # color_H\n",
        "test_x[0, 16] = 0.00    # color_I\n",
        "test_x[0, 17] = 1.00    # color_J\n",
        "test_x[0, 18] = 0.00    # clarity_I1\n",
        "test_x[0, 19] = 0.00    # clarity_IF\n",
        "test_x[0, 20] = 1.00    # clarity_SI1\n",
        "test_x[0, 21] = 0.00    # clarity_SI2\n",
        "test_x[0, 22] = 0.00    # clarity_VS1\n",
        "test_x[0, 23] = 0.00    # clarity_VS2\n",
        "test_x[0, 24] = 0.00    # clarity_VVS1\n",
        "test_x[0, 25] = 0.00    # clarity_VVS2\n",
        "test_x\n"
      ],
      "metadata": {
        "colab": {
          "base_uri": "https://localhost:8080/"
        },
        "id": "vPHzCjC_OmL2",
        "outputId": "61743b31-955e-466a-f521-80968e84b28f"
      },
      "execution_count": 23,
      "outputs": [
        {
          "output_type": "execute_result",
          "data": {
            "text/plain": [
              "array([[ 0.3 , 64.  , 55.  ,  4.25,  4.28,  2.73,  0.  ,  1.  ,  0.  ,\n",
              "         0.  ,  0.  ,  0.  ,  0.  ,  0.  ,  0.  ,  0.  ,  0.  ,  1.  ,\n",
              "         0.  ,  0.  ,  1.  ,  0.  ,  0.  ,  0.  ,  0.  ,  0.  ]])"
            ]
          },
          "metadata": {},
          "execution_count": 23
        }
      ]
    },
    {
      "cell_type": "code",
      "source": [
        "# Make predictions using the loaded Decision Tree model\n",
        "prediction = model.predict(test_x)\n",
        "print(f'The Decision Tree model predicts the diamond price as ${round(float(prediction[0]), 2)}')\n"
      ],
      "metadata": {
        "colab": {
          "base_uri": "https://localhost:8080/"
        },
        "id": "EFuE1dK-VRer",
        "outputId": "14ffac32-46bb-455d-9578-01325b1da42c"
      },
      "execution_count": 24,
      "outputs": [
        {
          "output_type": "stream",
          "name": "stdout",
          "text": [
            "The Decision Tree model predicts the diamond price as $339.0\n"
          ]
        },
        {
          "output_type": "stream",
          "name": "stderr",
          "text": [
            "/usr/local/lib/python3.10/dist-packages/sklearn/base.py:439: UserWarning: X does not have valid feature names, but DecisionTreeRegressor was fitted with feature names\n",
            "  warnings.warn(\n"
          ]
        }
      ]
    },
    {
      "cell_type": "markdown",
      "source": [
        "Got the exactly corret answer"
      ],
      "metadata": {
        "id": "EjXAcbA3VXgG"
      }
    },
    {
      "cell_type": "code",
      "source": [
        "#data.loc[20]-->price = 351.0\n",
        "\n",
        "test_x = np.zeros((1, 26))\n",
        "\n",
        "test_x[0, 0] = 0.30     # carat\n",
        "test_x[0, 1] = 63.30    # depth\n",
        "test_x[0, 2] = 56.00    # table\n",
        "test_x[0, 3] = 4.26     # x\n",
        "test_x[0, 4] = 4.30     # y\n",
        "test_x[0, 5] = 2.71     # z\n",
        "test_x[0, 6] = 0.00     # cut_Fair\n",
        "test_x[0, 7] = 1.00     # cut_Good\n",
        "test_x[0, 8] = 0.00     # cut_Ideal\n",
        "test_x[0, 9] = 0.00     # cut_Premium\n",
        "test_x[0, 10] = 0.00    # cut_Very Good\n",
        "test_x[0, 11] = 0.00    # color_D\n",
        "test_x[0, 12] = 0.00    # color_E\n",
        "test_x[0, 13] = 0.00    # color_F\n",
        "test_x[0, 14] = 0.00    # color_G\n",
        "test_x[0, 15] = 0.00    # color_H\n",
        "test_x[0, 16] = 1.00    # color_I\n",
        "test_x[0, 17] = 0.00    # color_J\n",
        "test_x[0, 18] = 0.00    # clarity_I1\n",
        "test_x[0, 19] = 0.00    # clarity_IF\n",
        "test_x[0, 20] = 0.00    # clarity_SI1\n",
        "test_x[0, 21] = 1.00    # clarity_SI2\n",
        "test_x[0, 22] = 0.00    # clarity_VS1\n",
        "test_x[0, 23] = 0.00    # clarity_VS2\n",
        "test_x[0, 24] = 0.00    # clarity_VVS1\n",
        "test_x[0, 25] = 0.00    # clarity_VVS2\n",
        "test_x"
      ],
      "metadata": {
        "colab": {
          "base_uri": "https://localhost:8080/"
        },
        "id": "37JODaDOVUBt",
        "outputId": "bb693163-1026-45f7-8a96-db6c72c2fe4e"
      },
      "execution_count": 25,
      "outputs": [
        {
          "output_type": "execute_result",
          "data": {
            "text/plain": [
              "array([[ 0.3 , 63.3 , 56.  ,  4.26,  4.3 ,  2.71,  0.  ,  1.  ,  0.  ,\n",
              "         0.  ,  0.  ,  0.  ,  0.  ,  0.  ,  0.  ,  0.  ,  1.  ,  0.  ,\n",
              "         0.  ,  0.  ,  0.  ,  1.  ,  0.  ,  0.  ,  0.  ,  0.  ]])"
            ]
          },
          "metadata": {},
          "execution_count": 25
        }
      ]
    },
    {
      "cell_type": "code",
      "source": [
        "# Make predictions using the loaded Decision Tree model\n",
        "prediction = model.predict(test_x)\n",
        "print(f'The Decision Tree model predicts the diamond price as ${round(float(prediction[0]), 2)}')\n"
      ],
      "metadata": {
        "colab": {
          "base_uri": "https://localhost:8080/"
        },
        "id": "N_ZoPm2SWA9K",
        "outputId": "a0ce3f68-cd3d-45ee-a153-29a674fada13"
      },
      "execution_count": 26,
      "outputs": [
        {
          "output_type": "stream",
          "name": "stdout",
          "text": [
            "The Decision Tree model predicts the diamond price as $351.0\n"
          ]
        },
        {
          "output_type": "stream",
          "name": "stderr",
          "text": [
            "/usr/local/lib/python3.10/dist-packages/sklearn/base.py:439: UserWarning: X does not have valid feature names, but DecisionTreeRegressor was fitted with feature names\n",
            "  warnings.warn(\n"
          ]
        }
      ]
    },
    {
      "cell_type": "markdown",
      "source": [
        "That's also the correct answer for diamond price of data.loc[20]"
      ],
      "metadata": {
        "id": "FRz8nXexWW-j"
      }
    },
    {
      "cell_type": "code",
      "source": [
        "#data.loc[371] --> price = 2808.0\n",
        "\n",
        "test_x = np.zeros((1, 26))\n",
        "\n",
        "test_x[0, 0] = 0.58     # carat\n",
        "test_x[0, 1] = 60.90    # depth\n",
        "test_x[0, 2] = 56.00    # table\n",
        "test_x[0, 3] = 5.41     # x\n",
        "test_x[0, 4] = 5.43     # y\n",
        "test_x[0, 5] = 3.30     # z\n",
        "test_x[0, 6] = 0.00     # cut_Fair\n",
        "test_x[0, 7] = 0.00     # cut_Good\n",
        "test_x[0, 8] = 1.00     # cut_Ideal\n",
        "test_x[0, 9] = 0.00     # cut_Premium\n",
        "test_x[0, 10] = 0.00    # cut_Very Good\n",
        "test_x[0, 11] = 0.00    # color_D\n",
        "test_x[0, 12] = 1.00    # color_E\n",
        "test_x[0, 13] = 0.00    # color_F\n",
        "test_x[0, 14] = 0.00    # color_G\n",
        "test_x[0, 15] = 0.00    # color_H\n",
        "test_x[0, 16] = 0.00    # color_I\n",
        "test_x[0, 17] = 0.00    # color_J\n",
        "test_x[0, 18] = 0.00    # clarity_I1\n",
        "test_x[0, 19] = 0.00    # clarity_IF\n",
        "test_x[0, 20] = 0.00    # clarity_SI1\n",
        "test_x[0, 21] = 0.00    # clarity_SI2\n",
        "test_x[0, 22] = 0.00    # clarity_VS1\n",
        "test_x[0, 23] = 0.00    # clarity_VS2\n",
        "test_x[0, 24] = 0.00    # clarity_VVS1\n",
        "test_x[0, 25] = 1.00    # clarity_VVS2\n",
        "test_x"
      ],
      "metadata": {
        "colab": {
          "base_uri": "https://localhost:8080/"
        },
        "id": "2NgBndxDWWYF",
        "outputId": "a519fb79-3da8-4956-ea0e-eb1a477b88b3"
      },
      "execution_count": 27,
      "outputs": [
        {
          "output_type": "execute_result",
          "data": {
            "text/plain": [
              "array([[ 0.58, 60.9 , 56.  ,  5.41,  5.43,  3.3 ,  0.  ,  0.  ,  1.  ,\n",
              "         0.  ,  0.  ,  0.  ,  1.  ,  0.  ,  0.  ,  0.  ,  0.  ,  0.  ,\n",
              "         0.  ,  0.  ,  0.  ,  0.  ,  0.  ,  0.  ,  0.  ,  1.  ]])"
            ]
          },
          "metadata": {},
          "execution_count": 27
        }
      ]
    },
    {
      "cell_type": "code",
      "source": [
        "# Make predictions using the loaded Decision Tree model\n",
        "prediction = model.predict(test_x)\n",
        "print(f'The Decision Tree model predicts the diamond price as ${round(float(prediction[0]), 2)}')\n"
      ],
      "metadata": {
        "colab": {
          "base_uri": "https://localhost:8080/"
        },
        "id": "gDhgJgFHW3ml",
        "outputId": "54205213-60e5-4d79-eab9-d0c945af3b46"
      },
      "execution_count": 28,
      "outputs": [
        {
          "output_type": "stream",
          "name": "stdout",
          "text": [
            "The Decision Tree model predicts the diamond price as $2808.0\n"
          ]
        },
        {
          "output_type": "stream",
          "name": "stderr",
          "text": [
            "/usr/local/lib/python3.10/dist-packages/sklearn/base.py:439: UserWarning: X does not have valid feature names, but DecisionTreeRegressor was fitted with feature names\n",
            "  warnings.warn(\n"
          ]
        }
      ]
    }
  ]
}