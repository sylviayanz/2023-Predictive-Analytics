{
  "nbformat": 4,
  "nbformat_minor": 0,
  "metadata": {
    "colab": {
      "provenance": [],
      "gpuType": "T4",
      "include_colab_link": true
    },
    "kernelspec": {
      "name": "python3",
      "display_name": "Python 3"
    },
    "language_info": {
      "name": "python"
    },
    "accelerator": "GPU"
  },
  "cells": [
    {
      "cell_type": "markdown",
      "metadata": {
        "id": "view-in-github",
        "colab_type": "text"
      },
      "source": [
        "<a href=\"https://colab.research.google.com/github/sylviayanz/2023-Predictive-Analytics/blob/main/Diamond.ipynb\" target=\"_parent\"><img src=\"https://colab.research.google.com/assets/colab-badge.svg\" alt=\"Open In Colab\"/></a>"
      ]
    },
    {
      "cell_type": "markdown",
      "metadata": {
        "id": "ZSBjGiLtkL8Z"
      },
      "source": [
        "#Task 1: Define the Problem"
      ]
    },
    {
      "cell_type": "code",
      "metadata": {
        "id": "SRffAEZMkikd"
      },
      "source": [],
      "execution_count": null,
      "outputs": []
    },
    {
      "cell_type": "markdown",
      "metadata": {
        "id": "SYOM7cJ_kiY1"
      },
      "source": [
        "#Task 2a: Install the Needed Libraries"
      ]
    },
    {
      "cell_type": "code",
      "metadata": {
        "id": "ft8kSvTUkiUd"
      },
      "source": [],
      "execution_count": null,
      "outputs": []
    },
    {
      "cell_type": "markdown",
      "metadata": {
        "id": "OZNxHMuSkiON"
      },
      "source": [
        "#Task 2b: Import the Needed Libraries"
      ]
    },
    {
      "cell_type": "code",
      "metadata": {
        "id": "HPsfw4s7kiKk"
      },
      "source": [
        "import numpy as np\n",
        "import pandas as pd\n",
        "import seaborn as sns\n",
        "\n",
        "from sklearn.linear_model import LinearRegression\n",
        "from sklearn.tree import DecisionTreeRegressor\n",
        "from sklearn.ensemble import RandomForestRegressor\n",
        "from xgboost import XGBRegressor\n",
        "from sklearn.metrics import mean_squared_error, r2_score, mean_absolute_error, accuracy_score\n",
        "from math import sqrt\n",
        "from sklearn.model_selection import train_test_split\n",
        "from sklearn import metrics\n",
        "import matplotlib.pyplot as plt\n",
        "import pickle\n",
        "\n",
        "sns.set()"
      ],
      "execution_count": 1,
      "outputs": []
    },
    {
      "cell_type": "markdown",
      "metadata": {
        "id": "umeaYS-SkiGU"
      },
      "source": [
        "#Task 3: Load the Data"
      ]
    },
    {
      "cell_type": "code",
      "metadata": {
        "id": "loYU2Pg3kiCS"
      },
      "source": [
        "data = pd.read_csv('https://raw.githubusercontent.com/sylviayanz/2023-Predictive-Analytics/main/diamonds%20-%20diamonds.csv')\n"
      ],
      "execution_count": 2,
      "outputs": []
    },
    {
      "cell_type": "markdown",
      "metadata": {
        "id": "OTaEVKXAkh-B"
      },
      "source": [
        "#Task 4: Perform Data Exploratory Analysis (EDA)"
      ]
    },
    {
      "cell_type": "markdown",
      "metadata": {
        "id": "2FyPB8fMkh6U"
      },
      "source": [
        "##Show the data"
      ]
    },
    {
      "cell_type": "code",
      "metadata": {
        "id": "x9efqRclkh14",
        "colab": {
          "base_uri": "https://localhost:8080/",
          "height": 206
        },
        "outputId": "8394b1e6-9130-43b2-bd5d-0173001d3d0d"
      },
      "source": [
        "data.head()"
      ],
      "execution_count": 3,
      "outputs": [
        {
          "output_type": "execute_result",
          "data": {
            "text/plain": [
              "   carat      cut color clarity  depth  table  price     x     y     z\n",
              "0   0.23    Ideal     E     SI2   61.5   55.0    326  3.95  3.98  2.43\n",
              "1   0.21  Premium     E     SI1   59.8   61.0    326  3.89  3.84  2.31\n",
              "2   0.23     Good     E     VS1   56.9   65.0    327  4.05  4.07  2.31\n",
              "3   0.29  Premium     I     VS2   62.4   58.0    334  4.20  4.23  2.63\n",
              "4   0.31     Good     J     SI2   63.3   58.0    335  4.34  4.35  2.75"
            ],
            "text/html": [
              "\n",
              "  <div id=\"df-5b517186-9931-4712-aeeb-181c6956e7d4\" class=\"colab-df-container\">\n",
              "    <div>\n",
              "<style scoped>\n",
              "    .dataframe tbody tr th:only-of-type {\n",
              "        vertical-align: middle;\n",
              "    }\n",
              "\n",
              "    .dataframe tbody tr th {\n",
              "        vertical-align: top;\n",
              "    }\n",
              "\n",
              "    .dataframe thead th {\n",
              "        text-align: right;\n",
              "    }\n",
              "</style>\n",
              "<table border=\"1\" class=\"dataframe\">\n",
              "  <thead>\n",
              "    <tr style=\"text-align: right;\">\n",
              "      <th></th>\n",
              "      <th>carat</th>\n",
              "      <th>cut</th>\n",
              "      <th>color</th>\n",
              "      <th>clarity</th>\n",
              "      <th>depth</th>\n",
              "      <th>table</th>\n",
              "      <th>price</th>\n",
              "      <th>x</th>\n",
              "      <th>y</th>\n",
              "      <th>z</th>\n",
              "    </tr>\n",
              "  </thead>\n",
              "  <tbody>\n",
              "    <tr>\n",
              "      <th>0</th>\n",
              "      <td>0.23</td>\n",
              "      <td>Ideal</td>\n",
              "      <td>E</td>\n",
              "      <td>SI2</td>\n",
              "      <td>61.5</td>\n",
              "      <td>55.0</td>\n",
              "      <td>326</td>\n",
              "      <td>3.95</td>\n",
              "      <td>3.98</td>\n",
              "      <td>2.43</td>\n",
              "    </tr>\n",
              "    <tr>\n",
              "      <th>1</th>\n",
              "      <td>0.21</td>\n",
              "      <td>Premium</td>\n",
              "      <td>E</td>\n",
              "      <td>SI1</td>\n",
              "      <td>59.8</td>\n",
              "      <td>61.0</td>\n",
              "      <td>326</td>\n",
              "      <td>3.89</td>\n",
              "      <td>3.84</td>\n",
              "      <td>2.31</td>\n",
              "    </tr>\n",
              "    <tr>\n",
              "      <th>2</th>\n",
              "      <td>0.23</td>\n",
              "      <td>Good</td>\n",
              "      <td>E</td>\n",
              "      <td>VS1</td>\n",
              "      <td>56.9</td>\n",
              "      <td>65.0</td>\n",
              "      <td>327</td>\n",
              "      <td>4.05</td>\n",
              "      <td>4.07</td>\n",
              "      <td>2.31</td>\n",
              "    </tr>\n",
              "    <tr>\n",
              "      <th>3</th>\n",
              "      <td>0.29</td>\n",
              "      <td>Premium</td>\n",
              "      <td>I</td>\n",
              "      <td>VS2</td>\n",
              "      <td>62.4</td>\n",
              "      <td>58.0</td>\n",
              "      <td>334</td>\n",
              "      <td>4.20</td>\n",
              "      <td>4.23</td>\n",
              "      <td>2.63</td>\n",
              "    </tr>\n",
              "    <tr>\n",
              "      <th>4</th>\n",
              "      <td>0.31</td>\n",
              "      <td>Good</td>\n",
              "      <td>J</td>\n",
              "      <td>SI2</td>\n",
              "      <td>63.3</td>\n",
              "      <td>58.0</td>\n",
              "      <td>335</td>\n",
              "      <td>4.34</td>\n",
              "      <td>4.35</td>\n",
              "      <td>2.75</td>\n",
              "    </tr>\n",
              "  </tbody>\n",
              "</table>\n",
              "</div>\n",
              "    <div class=\"colab-df-buttons\">\n",
              "\n",
              "  <div class=\"colab-df-container\">\n",
              "    <button class=\"colab-df-convert\" onclick=\"convertToInteractive('df-5b517186-9931-4712-aeeb-181c6956e7d4')\"\n",
              "            title=\"Convert this dataframe to an interactive table.\"\n",
              "            style=\"display:none;\">\n",
              "\n",
              "  <svg xmlns=\"http://www.w3.org/2000/svg\" height=\"24px\" viewBox=\"0 -960 960 960\">\n",
              "    <path d=\"M120-120v-720h720v720H120Zm60-500h600v-160H180v160Zm220 220h160v-160H400v160Zm0 220h160v-160H400v160ZM180-400h160v-160H180v160Zm440 0h160v-160H620v160ZM180-180h160v-160H180v160Zm440 0h160v-160H620v160Z\"/>\n",
              "  </svg>\n",
              "    </button>\n",
              "\n",
              "  <style>\n",
              "    .colab-df-container {\n",
              "      display:flex;\n",
              "      gap: 12px;\n",
              "    }\n",
              "\n",
              "    .colab-df-convert {\n",
              "      background-color: #E8F0FE;\n",
              "      border: none;\n",
              "      border-radius: 50%;\n",
              "      cursor: pointer;\n",
              "      display: none;\n",
              "      fill: #1967D2;\n",
              "      height: 32px;\n",
              "      padding: 0 0 0 0;\n",
              "      width: 32px;\n",
              "    }\n",
              "\n",
              "    .colab-df-convert:hover {\n",
              "      background-color: #E2EBFA;\n",
              "      box-shadow: 0px 1px 2px rgba(60, 64, 67, 0.3), 0px 1px 3px 1px rgba(60, 64, 67, 0.15);\n",
              "      fill: #174EA6;\n",
              "    }\n",
              "\n",
              "    .colab-df-buttons div {\n",
              "      margin-bottom: 4px;\n",
              "    }\n",
              "\n",
              "    [theme=dark] .colab-df-convert {\n",
              "      background-color: #3B4455;\n",
              "      fill: #D2E3FC;\n",
              "    }\n",
              "\n",
              "    [theme=dark] .colab-df-convert:hover {\n",
              "      background-color: #434B5C;\n",
              "      box-shadow: 0px 1px 3px 1px rgba(0, 0, 0, 0.15);\n",
              "      filter: drop-shadow(0px 1px 2px rgba(0, 0, 0, 0.3));\n",
              "      fill: #FFFFFF;\n",
              "    }\n",
              "  </style>\n",
              "\n",
              "    <script>\n",
              "      const buttonEl =\n",
              "        document.querySelector('#df-5b517186-9931-4712-aeeb-181c6956e7d4 button.colab-df-convert');\n",
              "      buttonEl.style.display =\n",
              "        google.colab.kernel.accessAllowed ? 'block' : 'none';\n",
              "\n",
              "      async function convertToInteractive(key) {\n",
              "        const element = document.querySelector('#df-5b517186-9931-4712-aeeb-181c6956e7d4');\n",
              "        const dataTable =\n",
              "          await google.colab.kernel.invokeFunction('convertToInteractive',\n",
              "                                                    [key], {});\n",
              "        if (!dataTable) return;\n",
              "\n",
              "        const docLinkHtml = 'Like what you see? Visit the ' +\n",
              "          '<a target=\"_blank\" href=https://colab.research.google.com/notebooks/data_table.ipynb>data table notebook</a>'\n",
              "          + ' to learn more about interactive tables.';\n",
              "        element.innerHTML = '';\n",
              "        dataTable['output_type'] = 'display_data';\n",
              "        await google.colab.output.renderOutput(dataTable, element);\n",
              "        const docLink = document.createElement('div');\n",
              "        docLink.innerHTML = docLinkHtml;\n",
              "        element.appendChild(docLink);\n",
              "      }\n",
              "    </script>\n",
              "  </div>\n",
              "\n",
              "\n",
              "<div id=\"df-e08530b8-aa57-43a2-8109-82e28a517a9d\">\n",
              "  <button class=\"colab-df-quickchart\" onclick=\"quickchart('df-e08530b8-aa57-43a2-8109-82e28a517a9d')\"\n",
              "            title=\"Suggest charts\"\n",
              "            style=\"display:none;\">\n",
              "\n",
              "<svg xmlns=\"http://www.w3.org/2000/svg\" height=\"24px\"viewBox=\"0 0 24 24\"\n",
              "     width=\"24px\">\n",
              "    <g>\n",
              "        <path d=\"M19 3H5c-1.1 0-2 .9-2 2v14c0 1.1.9 2 2 2h14c1.1 0 2-.9 2-2V5c0-1.1-.9-2-2-2zM9 17H7v-7h2v7zm4 0h-2V7h2v10zm4 0h-2v-4h2v4z\"/>\n",
              "    </g>\n",
              "</svg>\n",
              "  </button>\n",
              "\n",
              "<style>\n",
              "  .colab-df-quickchart {\n",
              "      --bg-color: #E8F0FE;\n",
              "      --fill-color: #1967D2;\n",
              "      --hover-bg-color: #E2EBFA;\n",
              "      --hover-fill-color: #174EA6;\n",
              "      --disabled-fill-color: #AAA;\n",
              "      --disabled-bg-color: #DDD;\n",
              "  }\n",
              "\n",
              "  [theme=dark] .colab-df-quickchart {\n",
              "      --bg-color: #3B4455;\n",
              "      --fill-color: #D2E3FC;\n",
              "      --hover-bg-color: #434B5C;\n",
              "      --hover-fill-color: #FFFFFF;\n",
              "      --disabled-bg-color: #3B4455;\n",
              "      --disabled-fill-color: #666;\n",
              "  }\n",
              "\n",
              "  .colab-df-quickchart {\n",
              "    background-color: var(--bg-color);\n",
              "    border: none;\n",
              "    border-radius: 50%;\n",
              "    cursor: pointer;\n",
              "    display: none;\n",
              "    fill: var(--fill-color);\n",
              "    height: 32px;\n",
              "    padding: 0;\n",
              "    width: 32px;\n",
              "  }\n",
              "\n",
              "  .colab-df-quickchart:hover {\n",
              "    background-color: var(--hover-bg-color);\n",
              "    box-shadow: 0 1px 2px rgba(60, 64, 67, 0.3), 0 1px 3px 1px rgba(60, 64, 67, 0.15);\n",
              "    fill: var(--button-hover-fill-color);\n",
              "  }\n",
              "\n",
              "  .colab-df-quickchart-complete:disabled,\n",
              "  .colab-df-quickchart-complete:disabled:hover {\n",
              "    background-color: var(--disabled-bg-color);\n",
              "    fill: var(--disabled-fill-color);\n",
              "    box-shadow: none;\n",
              "  }\n",
              "\n",
              "  .colab-df-spinner {\n",
              "    border: 2px solid var(--fill-color);\n",
              "    border-color: transparent;\n",
              "    border-bottom-color: var(--fill-color);\n",
              "    animation:\n",
              "      spin 1s steps(1) infinite;\n",
              "  }\n",
              "\n",
              "  @keyframes spin {\n",
              "    0% {\n",
              "      border-color: transparent;\n",
              "      border-bottom-color: var(--fill-color);\n",
              "      border-left-color: var(--fill-color);\n",
              "    }\n",
              "    20% {\n",
              "      border-color: transparent;\n",
              "      border-left-color: var(--fill-color);\n",
              "      border-top-color: var(--fill-color);\n",
              "    }\n",
              "    30% {\n",
              "      border-color: transparent;\n",
              "      border-left-color: var(--fill-color);\n",
              "      border-top-color: var(--fill-color);\n",
              "      border-right-color: var(--fill-color);\n",
              "    }\n",
              "    40% {\n",
              "      border-color: transparent;\n",
              "      border-right-color: var(--fill-color);\n",
              "      border-top-color: var(--fill-color);\n",
              "    }\n",
              "    60% {\n",
              "      border-color: transparent;\n",
              "      border-right-color: var(--fill-color);\n",
              "    }\n",
              "    80% {\n",
              "      border-color: transparent;\n",
              "      border-right-color: var(--fill-color);\n",
              "      border-bottom-color: var(--fill-color);\n",
              "    }\n",
              "    90% {\n",
              "      border-color: transparent;\n",
              "      border-bottom-color: var(--fill-color);\n",
              "    }\n",
              "  }\n",
              "</style>\n",
              "\n",
              "  <script>\n",
              "    async function quickchart(key) {\n",
              "      const quickchartButtonEl =\n",
              "        document.querySelector('#' + key + ' button');\n",
              "      quickchartButtonEl.disabled = true;  // To prevent multiple clicks.\n",
              "      quickchartButtonEl.classList.add('colab-df-spinner');\n",
              "      try {\n",
              "        const charts = await google.colab.kernel.invokeFunction(\n",
              "            'suggestCharts', [key], {});\n",
              "      } catch (error) {\n",
              "        console.error('Error during call to suggestCharts:', error);\n",
              "      }\n",
              "      quickchartButtonEl.classList.remove('colab-df-spinner');\n",
              "      quickchartButtonEl.classList.add('colab-df-quickchart-complete');\n",
              "    }\n",
              "    (() => {\n",
              "      let quickchartButtonEl =\n",
              "        document.querySelector('#df-e08530b8-aa57-43a2-8109-82e28a517a9d button');\n",
              "      quickchartButtonEl.style.display =\n",
              "        google.colab.kernel.accessAllowed ? 'block' : 'none';\n",
              "    })();\n",
              "  </script>\n",
              "</div>\n",
              "    </div>\n",
              "  </div>\n"
            ]
          },
          "metadata": {},
          "execution_count": 3
        }
      ]
    },
    {
      "cell_type": "markdown",
      "metadata": {
        "id": "yOaCGYX5khxz"
      },
      "source": [
        "##Get Data Info"
      ]
    },
    {
      "cell_type": "code",
      "metadata": {
        "id": "YbjJUPR4khtR",
        "colab": {
          "base_uri": "https://localhost:8080/"
        },
        "outputId": "225256d2-5fb7-4ea6-a59b-f6dd25159d87"
      },
      "source": [
        "data.info()\n",
        "\n",
        "#cut, color and clarity are object"
      ],
      "execution_count": 4,
      "outputs": [
        {
          "output_type": "stream",
          "name": "stdout",
          "text": [
            "<class 'pandas.core.frame.DataFrame'>\n",
            "RangeIndex: 53940 entries, 0 to 53939\n",
            "Data columns (total 10 columns):\n",
            " #   Column   Non-Null Count  Dtype  \n",
            "---  ------   --------------  -----  \n",
            " 0   carat    53940 non-null  float64\n",
            " 1   cut      53940 non-null  object \n",
            " 2   color    53940 non-null  object \n",
            " 3   clarity  53940 non-null  object \n",
            " 4   depth    53940 non-null  float64\n",
            " 5   table    53940 non-null  float64\n",
            " 6   price    53940 non-null  int64  \n",
            " 7   x        53940 non-null  float64\n",
            " 8   y        53940 non-null  float64\n",
            " 9   z        53940 non-null  float64\n",
            "dtypes: float64(6), int64(1), object(3)\n",
            "memory usage: 4.1+ MB\n"
          ]
        }
      ]
    },
    {
      "cell_type": "code",
      "source": [
        "data.describe()"
      ],
      "metadata": {
        "colab": {
          "base_uri": "https://localhost:8080/",
          "height": 300
        },
        "id": "b9CKr9Iqn3-7",
        "outputId": "4b93ed51-12ae-4c2e-a369-736543836c8c"
      },
      "execution_count": 5,
      "outputs": [
        {
          "output_type": "execute_result",
          "data": {
            "text/plain": [
              "              carat         depth         table         price             x  \\\n",
              "count  53940.000000  53940.000000  53940.000000  53940.000000  53940.000000   \n",
              "mean       0.797940     61.749405     57.457184   3932.799722      5.731157   \n",
              "std        0.474011      1.432621      2.234491   3989.439738      1.121761   \n",
              "min        0.200000     43.000000     43.000000    326.000000      0.000000   \n",
              "25%        0.400000     61.000000     56.000000    950.000000      4.710000   \n",
              "50%        0.700000     61.800000     57.000000   2401.000000      5.700000   \n",
              "75%        1.040000     62.500000     59.000000   5324.250000      6.540000   \n",
              "max        5.010000     79.000000     95.000000  18823.000000     10.740000   \n",
              "\n",
              "                  y             z  \n",
              "count  53940.000000  53940.000000  \n",
              "mean       5.734526      3.538734  \n",
              "std        1.142135      0.705699  \n",
              "min        0.000000      0.000000  \n",
              "25%        4.720000      2.910000  \n",
              "50%        5.710000      3.530000  \n",
              "75%        6.540000      4.040000  \n",
              "max       58.900000     31.800000  "
            ],
            "text/html": [
              "\n",
              "  <div id=\"df-c3571987-f2d3-4d9e-a119-c919e520ada9\" class=\"colab-df-container\">\n",
              "    <div>\n",
              "<style scoped>\n",
              "    .dataframe tbody tr th:only-of-type {\n",
              "        vertical-align: middle;\n",
              "    }\n",
              "\n",
              "    .dataframe tbody tr th {\n",
              "        vertical-align: top;\n",
              "    }\n",
              "\n",
              "    .dataframe thead th {\n",
              "        text-align: right;\n",
              "    }\n",
              "</style>\n",
              "<table border=\"1\" class=\"dataframe\">\n",
              "  <thead>\n",
              "    <tr style=\"text-align: right;\">\n",
              "      <th></th>\n",
              "      <th>carat</th>\n",
              "      <th>depth</th>\n",
              "      <th>table</th>\n",
              "      <th>price</th>\n",
              "      <th>x</th>\n",
              "      <th>y</th>\n",
              "      <th>z</th>\n",
              "    </tr>\n",
              "  </thead>\n",
              "  <tbody>\n",
              "    <tr>\n",
              "      <th>count</th>\n",
              "      <td>53940.000000</td>\n",
              "      <td>53940.000000</td>\n",
              "      <td>53940.000000</td>\n",
              "      <td>53940.000000</td>\n",
              "      <td>53940.000000</td>\n",
              "      <td>53940.000000</td>\n",
              "      <td>53940.000000</td>\n",
              "    </tr>\n",
              "    <tr>\n",
              "      <th>mean</th>\n",
              "      <td>0.797940</td>\n",
              "      <td>61.749405</td>\n",
              "      <td>57.457184</td>\n",
              "      <td>3932.799722</td>\n",
              "      <td>5.731157</td>\n",
              "      <td>5.734526</td>\n",
              "      <td>3.538734</td>\n",
              "    </tr>\n",
              "    <tr>\n",
              "      <th>std</th>\n",
              "      <td>0.474011</td>\n",
              "      <td>1.432621</td>\n",
              "      <td>2.234491</td>\n",
              "      <td>3989.439738</td>\n",
              "      <td>1.121761</td>\n",
              "      <td>1.142135</td>\n",
              "      <td>0.705699</td>\n",
              "    </tr>\n",
              "    <tr>\n",
              "      <th>min</th>\n",
              "      <td>0.200000</td>\n",
              "      <td>43.000000</td>\n",
              "      <td>43.000000</td>\n",
              "      <td>326.000000</td>\n",
              "      <td>0.000000</td>\n",
              "      <td>0.000000</td>\n",
              "      <td>0.000000</td>\n",
              "    </tr>\n",
              "    <tr>\n",
              "      <th>25%</th>\n",
              "      <td>0.400000</td>\n",
              "      <td>61.000000</td>\n",
              "      <td>56.000000</td>\n",
              "      <td>950.000000</td>\n",
              "      <td>4.710000</td>\n",
              "      <td>4.720000</td>\n",
              "      <td>2.910000</td>\n",
              "    </tr>\n",
              "    <tr>\n",
              "      <th>50%</th>\n",
              "      <td>0.700000</td>\n",
              "      <td>61.800000</td>\n",
              "      <td>57.000000</td>\n",
              "      <td>2401.000000</td>\n",
              "      <td>5.700000</td>\n",
              "      <td>5.710000</td>\n",
              "      <td>3.530000</td>\n",
              "    </tr>\n",
              "    <tr>\n",
              "      <th>75%</th>\n",
              "      <td>1.040000</td>\n",
              "      <td>62.500000</td>\n",
              "      <td>59.000000</td>\n",
              "      <td>5324.250000</td>\n",
              "      <td>6.540000</td>\n",
              "      <td>6.540000</td>\n",
              "      <td>4.040000</td>\n",
              "    </tr>\n",
              "    <tr>\n",
              "      <th>max</th>\n",
              "      <td>5.010000</td>\n",
              "      <td>79.000000</td>\n",
              "      <td>95.000000</td>\n",
              "      <td>18823.000000</td>\n",
              "      <td>10.740000</td>\n",
              "      <td>58.900000</td>\n",
              "      <td>31.800000</td>\n",
              "    </tr>\n",
              "  </tbody>\n",
              "</table>\n",
              "</div>\n",
              "    <div class=\"colab-df-buttons\">\n",
              "\n",
              "  <div class=\"colab-df-container\">\n",
              "    <button class=\"colab-df-convert\" onclick=\"convertToInteractive('df-c3571987-f2d3-4d9e-a119-c919e520ada9')\"\n",
              "            title=\"Convert this dataframe to an interactive table.\"\n",
              "            style=\"display:none;\">\n",
              "\n",
              "  <svg xmlns=\"http://www.w3.org/2000/svg\" height=\"24px\" viewBox=\"0 -960 960 960\">\n",
              "    <path d=\"M120-120v-720h720v720H120Zm60-500h600v-160H180v160Zm220 220h160v-160H400v160Zm0 220h160v-160H400v160ZM180-400h160v-160H180v160Zm440 0h160v-160H620v160ZM180-180h160v-160H180v160Zm440 0h160v-160H620v160Z\"/>\n",
              "  </svg>\n",
              "    </button>\n",
              "\n",
              "  <style>\n",
              "    .colab-df-container {\n",
              "      display:flex;\n",
              "      gap: 12px;\n",
              "    }\n",
              "\n",
              "    .colab-df-convert {\n",
              "      background-color: #E8F0FE;\n",
              "      border: none;\n",
              "      border-radius: 50%;\n",
              "      cursor: pointer;\n",
              "      display: none;\n",
              "      fill: #1967D2;\n",
              "      height: 32px;\n",
              "      padding: 0 0 0 0;\n",
              "      width: 32px;\n",
              "    }\n",
              "\n",
              "    .colab-df-convert:hover {\n",
              "      background-color: #E2EBFA;\n",
              "      box-shadow: 0px 1px 2px rgba(60, 64, 67, 0.3), 0px 1px 3px 1px rgba(60, 64, 67, 0.15);\n",
              "      fill: #174EA6;\n",
              "    }\n",
              "\n",
              "    .colab-df-buttons div {\n",
              "      margin-bottom: 4px;\n",
              "    }\n",
              "\n",
              "    [theme=dark] .colab-df-convert {\n",
              "      background-color: #3B4455;\n",
              "      fill: #D2E3FC;\n",
              "    }\n",
              "\n",
              "    [theme=dark] .colab-df-convert:hover {\n",
              "      background-color: #434B5C;\n",
              "      box-shadow: 0px 1px 3px 1px rgba(0, 0, 0, 0.15);\n",
              "      filter: drop-shadow(0px 1px 2px rgba(0, 0, 0, 0.3));\n",
              "      fill: #FFFFFF;\n",
              "    }\n",
              "  </style>\n",
              "\n",
              "    <script>\n",
              "      const buttonEl =\n",
              "        document.querySelector('#df-c3571987-f2d3-4d9e-a119-c919e520ada9 button.colab-df-convert');\n",
              "      buttonEl.style.display =\n",
              "        google.colab.kernel.accessAllowed ? 'block' : 'none';\n",
              "\n",
              "      async function convertToInteractive(key) {\n",
              "        const element = document.querySelector('#df-c3571987-f2d3-4d9e-a119-c919e520ada9');\n",
              "        const dataTable =\n",
              "          await google.colab.kernel.invokeFunction('convertToInteractive',\n",
              "                                                    [key], {});\n",
              "        if (!dataTable) return;\n",
              "\n",
              "        const docLinkHtml = 'Like what you see? Visit the ' +\n",
              "          '<a target=\"_blank\" href=https://colab.research.google.com/notebooks/data_table.ipynb>data table notebook</a>'\n",
              "          + ' to learn more about interactive tables.';\n",
              "        element.innerHTML = '';\n",
              "        dataTable['output_type'] = 'display_data';\n",
              "        await google.colab.output.renderOutput(dataTable, element);\n",
              "        const docLink = document.createElement('div');\n",
              "        docLink.innerHTML = docLinkHtml;\n",
              "        element.appendChild(docLink);\n",
              "      }\n",
              "    </script>\n",
              "  </div>\n",
              "\n",
              "\n",
              "<div id=\"df-176d0b93-0645-4e3b-a79b-990d9f32b431\">\n",
              "  <button class=\"colab-df-quickchart\" onclick=\"quickchart('df-176d0b93-0645-4e3b-a79b-990d9f32b431')\"\n",
              "            title=\"Suggest charts\"\n",
              "            style=\"display:none;\">\n",
              "\n",
              "<svg xmlns=\"http://www.w3.org/2000/svg\" height=\"24px\"viewBox=\"0 0 24 24\"\n",
              "     width=\"24px\">\n",
              "    <g>\n",
              "        <path d=\"M19 3H5c-1.1 0-2 .9-2 2v14c0 1.1.9 2 2 2h14c1.1 0 2-.9 2-2V5c0-1.1-.9-2-2-2zM9 17H7v-7h2v7zm4 0h-2V7h2v10zm4 0h-2v-4h2v4z\"/>\n",
              "    </g>\n",
              "</svg>\n",
              "  </button>\n",
              "\n",
              "<style>\n",
              "  .colab-df-quickchart {\n",
              "      --bg-color: #E8F0FE;\n",
              "      --fill-color: #1967D2;\n",
              "      --hover-bg-color: #E2EBFA;\n",
              "      --hover-fill-color: #174EA6;\n",
              "      --disabled-fill-color: #AAA;\n",
              "      --disabled-bg-color: #DDD;\n",
              "  }\n",
              "\n",
              "  [theme=dark] .colab-df-quickchart {\n",
              "      --bg-color: #3B4455;\n",
              "      --fill-color: #D2E3FC;\n",
              "      --hover-bg-color: #434B5C;\n",
              "      --hover-fill-color: #FFFFFF;\n",
              "      --disabled-bg-color: #3B4455;\n",
              "      --disabled-fill-color: #666;\n",
              "  }\n",
              "\n",
              "  .colab-df-quickchart {\n",
              "    background-color: var(--bg-color);\n",
              "    border: none;\n",
              "    border-radius: 50%;\n",
              "    cursor: pointer;\n",
              "    display: none;\n",
              "    fill: var(--fill-color);\n",
              "    height: 32px;\n",
              "    padding: 0;\n",
              "    width: 32px;\n",
              "  }\n",
              "\n",
              "  .colab-df-quickchart:hover {\n",
              "    background-color: var(--hover-bg-color);\n",
              "    box-shadow: 0 1px 2px rgba(60, 64, 67, 0.3), 0 1px 3px 1px rgba(60, 64, 67, 0.15);\n",
              "    fill: var(--button-hover-fill-color);\n",
              "  }\n",
              "\n",
              "  .colab-df-quickchart-complete:disabled,\n",
              "  .colab-df-quickchart-complete:disabled:hover {\n",
              "    background-color: var(--disabled-bg-color);\n",
              "    fill: var(--disabled-fill-color);\n",
              "    box-shadow: none;\n",
              "  }\n",
              "\n",
              "  .colab-df-spinner {\n",
              "    border: 2px solid var(--fill-color);\n",
              "    border-color: transparent;\n",
              "    border-bottom-color: var(--fill-color);\n",
              "    animation:\n",
              "      spin 1s steps(1) infinite;\n",
              "  }\n",
              "\n",
              "  @keyframes spin {\n",
              "    0% {\n",
              "      border-color: transparent;\n",
              "      border-bottom-color: var(--fill-color);\n",
              "      border-left-color: var(--fill-color);\n",
              "    }\n",
              "    20% {\n",
              "      border-color: transparent;\n",
              "      border-left-color: var(--fill-color);\n",
              "      border-top-color: var(--fill-color);\n",
              "    }\n",
              "    30% {\n",
              "      border-color: transparent;\n",
              "      border-left-color: var(--fill-color);\n",
              "      border-top-color: var(--fill-color);\n",
              "      border-right-color: var(--fill-color);\n",
              "    }\n",
              "    40% {\n",
              "      border-color: transparent;\n",
              "      border-right-color: var(--fill-color);\n",
              "      border-top-color: var(--fill-color);\n",
              "    }\n",
              "    60% {\n",
              "      border-color: transparent;\n",
              "      border-right-color: var(--fill-color);\n",
              "    }\n",
              "    80% {\n",
              "      border-color: transparent;\n",
              "      border-right-color: var(--fill-color);\n",
              "      border-bottom-color: var(--fill-color);\n",
              "    }\n",
              "    90% {\n",
              "      border-color: transparent;\n",
              "      border-bottom-color: var(--fill-color);\n",
              "    }\n",
              "  }\n",
              "</style>\n",
              "\n",
              "  <script>\n",
              "    async function quickchart(key) {\n",
              "      const quickchartButtonEl =\n",
              "        document.querySelector('#' + key + ' button');\n",
              "      quickchartButtonEl.disabled = true;  // To prevent multiple clicks.\n",
              "      quickchartButtonEl.classList.add('colab-df-spinner');\n",
              "      try {\n",
              "        const charts = await google.colab.kernel.invokeFunction(\n",
              "            'suggestCharts', [key], {});\n",
              "      } catch (error) {\n",
              "        console.error('Error during call to suggestCharts:', error);\n",
              "      }\n",
              "      quickchartButtonEl.classList.remove('colab-df-spinner');\n",
              "      quickchartButtonEl.classList.add('colab-df-quickchart-complete');\n",
              "    }\n",
              "    (() => {\n",
              "      let quickchartButtonEl =\n",
              "        document.querySelector('#df-176d0b93-0645-4e3b-a79b-990d9f32b431 button');\n",
              "      quickchartButtonEl.style.display =\n",
              "        google.colab.kernel.accessAllowed ? 'block' : 'none';\n",
              "    })();\n",
              "  </script>\n",
              "</div>\n",
              "    </div>\n",
              "  </div>\n"
            ]
          },
          "metadata": {},
          "execution_count": 5
        }
      ]
    },
    {
      "cell_type": "markdown",
      "metadata": {
        "id": "6GZsnSiMkhpo"
      },
      "source": [
        "#Find Missing Values"
      ]
    },
    {
      "cell_type": "markdown",
      "metadata": {
        "id": "HvFrMzIGmMOl"
      },
      "source": [
        "#Task 5: Perform Data Cleaning"
      ]
    },
    {
      "cell_type": "code",
      "metadata": {
        "id": "S6cyPRAAmMLI",
        "colab": {
          "base_uri": "https://localhost:8080/"
        },
        "outputId": "df218f2b-1e6f-4570-b6ec-759b2af56d1d"
      },
      "source": [
        "data.isnull().sum()\n",
        "#no missing values"
      ],
      "execution_count": 6,
      "outputs": [
        {
          "output_type": "execute_result",
          "data": {
            "text/plain": [
              "carat      0\n",
              "cut        0\n",
              "color      0\n",
              "clarity    0\n",
              "depth      0\n",
              "table      0\n",
              "price      0\n",
              "x          0\n",
              "y          0\n",
              "z          0\n",
              "dtype: int64"
            ]
          },
          "metadata": {},
          "execution_count": 6
        }
      ]
    },
    {
      "cell_type": "markdown",
      "metadata": {
        "id": "nNu-6-3emMH5"
      },
      "source": [
        "#Task 6: Visualize Cleaned up Dataset"
      ]
    },
    {
      "cell_type": "code",
      "metadata": {
        "id": "0HXS27ktmMEs",
        "colab": {
          "base_uri": "https://localhost:8080/",
          "height": 452
        },
        "outputId": "fc59ed73-af67-4829-8980-71908479512e"
      },
      "source": [
        "sns.heatmap(data.isnull(), yticklabels = False, cbar = False, cmap = 'viridis')\n"
      ],
      "execution_count": 7,
      "outputs": [
        {
          "output_type": "execute_result",
          "data": {
            "text/plain": [
              "<Axes: >"
            ]
          },
          "metadata": {},
          "execution_count": 7
        },
        {
          "output_type": "display_data",
          "data": {
            "text/plain": [
              "<Figure size 640x480 with 1 Axes>"
            ],
            "image/png": "[encoded data removed]"
          },
          "metadata": {}
        }
      ]
    },
    {
      "cell_type": "markdown",
      "metadata": {
        "id": "4k8nJyFemMBY"
      },
      "source": [
        "#Task 7: Conceptualize the problem"
      ]
    },
    {
      "cell_type": "code",
      "source": [
        "# Histograms--the distribution of all numeric variables\n",
        "data.hist(figsize=(12, 10), color='maroon')\n",
        "plt.tight_layout()\n",
        "plt.show()"
      ],
      "metadata": {
        "colab": {
          "base_uri": "https://localhost:8080/",
          "height": 1000
        },
        "id": "Xgu-9mdyONve",
        "outputId": "2dd79ebb-fe32-4d63-80d8-686799edaa87"
      },
      "execution_count": 8,
      "outputs": [
        {
          "output_type": "display_data",
          "data": {
            "text/plain": [
              "<Figure size 1200x1000 with 9 Axes>"
            ],
            "image/png": "[encoded data removed]"
          },
          "metadata": {}
        }
      ]
    },
    {
      "cell_type": "code",
      "source": [
        "#Carat vs Price\n",
        "\n",
        "plt.figure(figsize=(8, 6))\n",
        "sns.regplot(x='carat', y='price', data=data, scatter_kws={'alpha':0.5, 'color':'darkgreen'})\n",
        "plt.title('Carat vs Price with Regression Line')\n",
        "plt.xlabel('Carat')\n",
        "plt.ylabel('Price')\n",
        "plt.show()\n",
        "\n",
        "#a strong positive linear correlation between 'carat' and 'price'"
      ],
      "metadata": {
        "colab": {
          "base_uri": "https://localhost:8080/",
          "height": 573
        },
        "id": "TOO9CiqtSqmC",
        "outputId": "8cf1ba7a-b3ce-48dd-ff6c-f73ee8898a92"
      },
      "execution_count": 9,
      "outputs": [
        {
          "output_type": "display_data",
          "data": {
            "text/plain": [
              "<Figure size 800x600 with 1 Axes>"
            ],
            "image/png": "[encoded data removed]"
          },
          "metadata": {}
        }
      ]
    },
    {
      "cell_type": "code",
      "source": [
        "#Let's see the price distribution cross carat levels by violin plot\n",
        "data['carat_bins'] = pd.cut(data['carat'], bins=5)  # Split 'carat' into 5 bins\n",
        "\n",
        "plt.figure(figsize=(10, 8))\n",
        "sns.violinplot(x='carat_bins', y='price', data=data, palette='viridis')\n",
        "plt.title('Price Distribution Across Carat Levels')\n",
        "plt.xlabel('Carat')\n",
        "plt.ylabel('Price')\n",
        "plt.show()\n",
        "\n",
        "#basically, higher carat levels get higher price"
      ],
      "metadata": {
        "colab": {
          "base_uri": "https://localhost:8080/",
          "height": 727
        },
        "id": "6paOSlytTNQr",
        "outputId": "b90e1a3b-58cd-4eb4-d8e0-abdea39623b5"
      },
      "execution_count": 10,
      "outputs": [
        {
          "output_type": "display_data",
          "data": {
            "text/plain": [
              "<Figure size 1000x800 with 1 Axes>"
            ],
            "image/png": "[encoded data removed]"
          },
          "metadata": {}
        }
      ]
    },
    {
      "cell_type": "code",
      "source": [
        "# Box plot - Cut vs Price\n",
        "cut_order = ['Fair', 'Good', 'Very Good', 'Premium', 'Ideal']\n",
        "\n",
        "plt.figure(figsize=(8, 6))\n",
        "sns.boxplot(data=data, x='cut', y='price', order = cut_order, palette = 'Set2')\n",
        "plt.title('Cut vs Price')\n",
        "plt.show()\n",
        "\n",
        "#color palette: https://matplotlib.org/stable/users/explain/colors/colormaps.html"
      ],
      "metadata": {
        "colab": {
          "base_uri": "https://localhost:8080/",
          "height": 573
        },
        "id": "V4An7aedO_nN",
        "outputId": "d12d55c5-0718-4999-a8f3-b021ecd42676"
      },
      "execution_count": 11,
      "outputs": [
        {
          "output_type": "display_data",
          "data": {
            "text/plain": [
              "<Figure size 800x600 with 1 Axes>"
            ],
            "image/png": "[encoded data removed]"
          },
          "metadata": {}
        }
      ]
    },
    {
      "cell_type": "code",
      "source": [
        "# Box plot - color vs Price\n",
        "\n",
        "color_order = ['D', 'E', 'F', 'G', 'H', 'I','J']\n",
        "\n",
        "plt.figure(figsize=(8, 6))\n",
        "sns.boxplot(data=data, x='color', y='price',order = color_order, palette = 'Set2')\n",
        "plt.title('color vs Price')\n",
        "plt.show()"
      ],
      "metadata": {
        "colab": {
          "base_uri": "https://localhost:8080/",
          "height": 573
        },
        "id": "cqsR-Do6lh3p",
        "outputId": "21687988-c1c3-4706-d2aa-b0a0806763bb"
      },
      "execution_count": 12,
      "outputs": [
        {
          "output_type": "display_data",
          "data": {
            "text/plain": [
              "<Figure size 800x600 with 1 Axes>"
            ],
            "image/png": "[encoded data removed]"
          },
          "metadata": {}
        }
      ]
    },
    {
      "cell_type": "code",
      "source": [
        "# Correlation Heatmap\n",
        "plt.figure(figsize=(10, 8))\n",
        "sns.heatmap(data.corr(), annot=True, cmap='YlGnBu')\n",
        "plt.title('Correlation Heatmap')\n",
        "plt.show()\n",
        "\n",
        "#price has positive correlation with carat, x, y,z. Especially, strong positive correlation with carart."
      ],
      "metadata": {
        "colab": {
          "base_uri": "https://localhost:8080/",
          "height": 759
        },
        "id": "6bwjBht7PCCw",
        "outputId": "4dc72513-833e-48f0-fb54-3503a82fc681"
      },
      "execution_count": 13,
      "outputs": [
        {
          "output_type": "stream",
          "name": "stderr",
          "text": [
            "<ipython-input-13-cd6f46487cfa>:3: FutureWarning: The default value of numeric_only in DataFrame.corr is deprecated. In a future version, it will default to False. Select only valid columns or specify the value of numeric_only to silence this warning.\n",
            "  sns.heatmap(data.corr(), annot=True, cmap='YlGnBu')\n"
          ]
        },
        {
          "output_type": "display_data",
          "data": {
            "text/plain": [
              "<Figure size 1000x800 with 2 Axes>"
            ],
            "image/png": "[encoded data removed]"
          },
          "metadata": {}
        }
      ]
    },
    {
      "cell_type": "code",
      "metadata": {
        "id": "gu4nQbmQm9z8",
        "colab": {
          "base_uri": "https://localhost:8080/"
        },
        "outputId": "2c7b8aad-1ddd-4989-f10d-8c35101e12d0"
      },
      "source": [
        "data['price'].max()"
      ],
      "execution_count": 14,
      "outputs": [
        {
          "output_type": "execute_result",
          "data": {
            "text/plain": [
              "18823"
            ]
          },
          "metadata": {},
          "execution_count": 14
        }
      ]
    },
    {
      "cell_type": "code",
      "source": [
        "data['price'].min()"
      ],
      "metadata": {
        "colab": {
          "base_uri": "https://localhost:8080/"
        },
        "id": "LQBCsuViq6QV",
        "outputId": "086997bf-90cb-460b-d1ad-f6b7dbc9e870"
      },
      "execution_count": 15,
      "outputs": [
        {
          "output_type": "execute_result",
          "data": {
            "text/plain": [
              "326"
            ]
          },
          "metadata": {},
          "execution_count": 15
        }
      ]
    },
    {
      "cell_type": "code",
      "source": [
        "data['cut'].unique()"
      ],
      "metadata": {
        "colab": {
          "base_uri": "https://localhost:8080/"
        },
        "id": "9uw8hKT5uqaF",
        "outputId": "28edc660-933f-488e-ad11-fb39f6fb6b6a"
      },
      "execution_count": 16,
      "outputs": [
        {
          "output_type": "execute_result",
          "data": {
            "text/plain": [
              "array(['Ideal', 'Premium', 'Good', 'Very Good', 'Fair'], dtype=object)"
            ]
          },
          "metadata": {},
          "execution_count": 16
        }
      ]
    },
    {
      "cell_type": "code",
      "source": [
        "data['color'].unique()"
      ],
      "metadata": {
        "colab": {
          "base_uri": "https://localhost:8080/"
        },
        "id": "qKkrUzRn2Q5B",
        "outputId": "474ecac5-b4f5-41b6-a800-30942319cac8"
      },
      "execution_count": 17,
      "outputs": [
        {
          "output_type": "execute_result",
          "data": {
            "text/plain": [
              "array(['E', 'I', 'J', 'H', 'F', 'G', 'D'], dtype=object)"
            ]
          },
          "metadata": {},
          "execution_count": 17
        }
      ]
    },
    {
      "cell_type": "code",
      "source": [
        "data['clarity'].unique()"
      ],
      "metadata": {
        "colab": {
          "base_uri": "https://localhost:8080/"
        },
        "id": "7YinjFhO2T-P",
        "outputId": "21e612c6-674e-4428-b6cc-770513300823"
      },
      "execution_count": 18,
      "outputs": [
        {
          "output_type": "execute_result",
          "data": {
            "text/plain": [
              "array(['SI2', 'SI1', 'VS1', 'VS2', 'VVS2', 'VVS1', 'I1', 'IF'],\n",
              "      dtype=object)"
            ]
          },
          "metadata": {},
          "execution_count": 18
        }
      ]
    },
    {
      "cell_type": "code",
      "source": [
        "#one-hot encoding for convert cut, color and clarity columns to new binary columns\n",
        "data = pd.get_dummies(data, columns=['cut', 'color', 'clarity'], prefix=['cut', 'color', 'clarity'])"
      ],
      "metadata": {
        "id": "qmejClDNuOpm"
      },
      "execution_count": 19,
      "outputs": []
    },
    {
      "cell_type": "code",
      "source": [
        "data.head()"
      ],
      "metadata": {
        "colab": {
          "base_uri": "https://localhost:8080/",
          "height": 342
        },
        "id": "kaBpUjejuRcd",
        "outputId": "bbc003da-98b0-4b53-ef74-8f78b524b49f"
      },
      "execution_count": 20,
      "outputs": [
        {
          "output_type": "execute_result",
          "data": {
            "text/plain": [
              "   carat  depth  table  price     x     y     z      carat_bins  cut_Fair  \\\n",
              "0   0.23   61.5   55.0    326  3.95  3.98  2.43  (0.195, 1.162]         0   \n",
              "1   0.21   59.8   61.0    326  3.89  3.84  2.31  (0.195, 1.162]         0   \n",
              "2   0.23   56.9   65.0    327  4.05  4.07  2.31  (0.195, 1.162]         0   \n",
              "3   0.29   62.4   58.0    334  4.20  4.23  2.63  (0.195, 1.162]         0   \n",
              "4   0.31   63.3   58.0    335  4.34  4.35  2.75  (0.195, 1.162]         0   \n",
              "\n",
              "   cut_Good  ...  color_I  color_J  clarity_I1  clarity_IF  clarity_SI1  \\\n",
              "0         0  ...        0        0           0           0            0   \n",
              "1         0  ...        0        0           0           0            1   \n",
              "2         1  ...        0        0           0           0            0   \n",
              "3         0  ...        1        0           0           0            0   \n",
              "4         1  ...        0        1           0           0            0   \n",
              "\n",
              "   clarity_SI2  clarity_VS1  clarity_VS2  clarity_VVS1  clarity_VVS2  \n",
              "0            1            0            0             0             0  \n",
              "1            0            0            0             0             0  \n",
              "2            0            1            0             0             0  \n",
              "3            0            0            1             0             0  \n",
              "4            1            0            0             0             0  \n",
              "\n",
              "[5 rows x 28 columns]"
            ],
            "text/html": [
              "\n",
              "  <div id=\"df-d4994175-e9b9-433e-be00-778fef526823\" class=\"colab-df-container\">\n",
              "    <div>\n",
              "<style scoped>\n",
              "    .dataframe tbody tr th:only-of-type {\n",
              "        vertical-align: middle;\n",
              "    }\n",
              "\n",
              "    .dataframe tbody tr th {\n",
              "        vertical-align: top;\n",
              "    }\n",
              "\n",
              "    .dataframe thead th {\n",
              "        text-align: right;\n",
              "    }\n",
              "</style>\n",
              "<table border=\"1\" class=\"dataframe\">\n",
              "  <thead>\n",
              "    <tr style=\"text-align: right;\">\n",
              "      <th></th>\n",
              "      <th>carat</th>\n",
              "      <th>depth</th>\n",
              "      <th>table</th>\n",
              "      <th>price</th>\n",
              "      <th>x</th>\n",
              "      <th>y</th>\n",
              "      <th>z</th>\n",
              "      <th>carat_bins</th>\n",
              "      <th>cut_Fair</th>\n",
              "      <th>cut_Good</th>\n",
              "      <th>...</th>\n",
              "      <th>color_I</th>\n",
              "      <th>color_J</th>\n",
              "      <th>clarity_I1</th>\n",
              "      <th>clarity_IF</th>\n",
              "      <th>clarity_SI1</th>\n",
              "      <th>clarity_SI2</th>\n",
              "      <th>clarity_VS1</th>\n",
              "      <th>clarity_VS2</th>\n",
              "      <th>clarity_VVS1</th>\n",
              "      <th>clarity_VVS2</th>\n",
              "    </tr>\n",
              "  </thead>\n",
              "  <tbody>\n",
              "    <tr>\n",
              "      <th>0</th>\n",
              "      <td>0.23</td>\n",
              "      <td>61.5</td>\n",
              "      <td>55.0</td>\n",
              "      <td>326</td>\n",
              "      <td>3.95</td>\n",
              "      <td>3.98</td>\n",
              "      <td>2.43</td>\n",
              "      <td>(0.195, 1.162]</td>\n",
              "      <td>0</td>\n",
              "      <td>0</td>\n",
              "      <td>...</td>\n",
              "      <td>0</td>\n",
              "      <td>0</td>\n",
              "      <td>0</td>\n",
              "      <td>0</td>\n",
              "      <td>0</td>\n",
              "      <td>1</td>\n",
              "      <td>0</td>\n",
              "      <td>0</td>\n",
              "      <td>0</td>\n",
              "      <td>0</td>\n",
              "    </tr>\n",
              "    <tr>\n",
              "      <th>1</th>\n",
              "      <td>0.21</td>\n",
              "      <td>59.8</td>\n",
              "      <td>61.0</td>\n",
              "      <td>326</td>\n",
              "      <td>3.89</td>\n",
              "      <td>3.84</td>\n",
              "      <td>2.31</td>\n",
              "      <td>(0.195, 1.162]</td>\n",
              "      <td>0</td>\n",
              "      <td>0</td>\n",
              "      <td>...</td>\n",
              "      <td>0</td>\n",
              "      <td>0</td>\n",
              "      <td>0</td>\n",
              "      <td>0</td>\n",
              "      <td>1</td>\n",
              "      <td>0</td>\n",
              "      <td>0</td>\n",
              "      <td>0</td>\n",
              "      <td>0</td>\n",
              "      <td>0</td>\n",
              "    </tr>\n",
              "    <tr>\n",
              "      <th>2</th>\n",
              "      <td>0.23</td>\n",
              "      <td>56.9</td>\n",
              "      <td>65.0</td>\n",
              "      <td>327</td>\n",
              "      <td>4.05</td>\n",
              "      <td>4.07</td>\n",
              "      <td>2.31</td>\n",
              "      <td>(0.195, 1.162]</td>\n",
              "      <td>0</td>\n",
              "      <td>1</td>\n",
              "      <td>...</td>\n",
              "      <td>0</td>\n",
              "      <td>0</td>\n",
              "      <td>0</td>\n",
              "      <td>0</td>\n",
              "      <td>0</td>\n",
              "      <td>0</td>\n",
              "      <td>1</td>\n",
              "      <td>0</td>\n",
              "      <td>0</td>\n",
              "      <td>0</td>\n",
              "    </tr>\n",
              "    <tr>\n",
              "      <th>3</th>\n",
              "      <td>0.29</td>\n",
              "      <td>62.4</td>\n",
              "      <td>58.0</td>\n",
              "      <td>334</td>\n",
              "      <td>4.20</td>\n",
              "      <td>4.23</td>\n",
              "      <td>2.63</td>\n",
              "      <td>(0.195, 1.162]</td>\n",
              "      <td>0</td>\n",
              "      <td>0</td>\n",
              "      <td>...</td>\n",
              "      <td>1</td>\n",
              "      <td>0</td>\n",
              "      <td>0</td>\n",
              "      <td>0</td>\n",
              "      <td>0</td>\n",
              "      <td>0</td>\n",
              "      <td>0</td>\n",
              "      <td>1</td>\n",
              "      <td>0</td>\n",
              "      <td>0</td>\n",
              "    </tr>\n",
              "    <tr>\n",
              "      <th>4</th>\n",
              "      <td>0.31</td>\n",
              "      <td>63.3</td>\n",
              "      <td>58.0</td>\n",
              "      <td>335</td>\n",
              "      <td>4.34</td>\n",
              "      <td>4.35</td>\n",
              "      <td>2.75</td>\n",
              "      <td>(0.195, 1.162]</td>\n",
              "      <td>0</td>\n",
              "      <td>1</td>\n",
              "      <td>...</td>\n",
              "      <td>0</td>\n",
              "      <td>1</td>\n",
              "      <td>0</td>\n",
              "      <td>0</td>\n",
              "      <td>0</td>\n",
              "      <td>1</td>\n",
              "      <td>0</td>\n",
              "      <td>0</td>\n",
              "      <td>0</td>\n",
              "      <td>0</td>\n",
              "    </tr>\n",
              "  </tbody>\n",
              "</table>\n",
              "<p>5 rows × 28 columns</p>\n",
              "</div>\n",
              "    <div class=\"colab-df-buttons\">\n",
              "\n",
              "  <div class=\"colab-df-container\">\n",
              "    <button class=\"colab-df-convert\" onclick=\"convertToInteractive('df-d4994175-e9b9-433e-be00-778fef526823')\"\n",
              "            title=\"Convert this dataframe to an interactive table.\"\n",
              "            style=\"display:none;\">\n",
              "\n",
              "  <svg xmlns=\"http://www.w3.org/2000/svg\" height=\"24px\" viewBox=\"0 -960 960 960\">\n",
              "    <path d=\"M120-120v-720h720v720H120Zm60-500h600v-160H180v160Zm220 220h160v-160H400v160Zm0 220h160v-160H400v160ZM180-400h160v-160H180v160Zm440 0h160v-160H620v160ZM180-180h160v-160H180v160Zm440 0h160v-160H620v160Z\"/>\n",
              "  </svg>\n",
              "    </button>\n",
              "\n",
              "  <style>\n",
              "    .colab-df-container {\n",
              "      display:flex;\n",
              "      gap: 12px;\n",
              "    }\n",
              "\n",
              "    .colab-df-convert {\n",
              "      background-color: #E8F0FE;\n",
              "      border: none;\n",
              "      border-radius: 50%;\n",
              "      cursor: pointer;\n",
              "      display: none;\n",
              "      fill: #1967D2;\n",
              "      height: 32px;\n",
              "      padding: 0 0 0 0;\n",
              "      width: 32px;\n",
              "    }\n",
              "\n",
              "    .colab-df-convert:hover {\n",
              "      background-color: #E2EBFA;\n",
              "      box-shadow: 0px 1px 2px rgba(60, 64, 67, 0.3), 0px 1px 3px 1px rgba(60, 64, 67, 0.15);\n",
              "      fill: #174EA6;\n",
              "    }\n",
              "\n",
              "    .colab-df-buttons div {\n",
              "      margin-bottom: 4px;\n",
              "    }\n",
              "\n",
              "    [theme=dark] .colab-df-convert {\n",
              "      background-color: #3B4455;\n",
              "      fill: #D2E3FC;\n",
              "    }\n",
              "\n",
              "    [theme=dark] .colab-df-convert:hover {\n",
              "      background-color: #434B5C;\n",
              "      box-shadow: 0px 1px 3px 1px rgba(0, 0, 0, 0.15);\n",
              "      filter: drop-shadow(0px 1px 2px rgba(0, 0, 0, 0.3));\n",
              "      fill: #FFFFFF;\n",
              "    }\n",
              "  </style>\n",
              "\n",
              "    <script>\n",
              "      const buttonEl =\n",
              "        document.querySelector('#df-d4994175-e9b9-433e-be00-778fef526823 button.colab-df-convert');\n",
              "      buttonEl.style.display =\n",
              "        google.colab.kernel.accessAllowed ? 'block' : 'none';\n",
              "\n",
              "      async function convertToInteractive(key) {\n",
              "        const element = document.querySelector('#df-d4994175-e9b9-433e-be00-778fef526823');\n",
              "        const dataTable =\n",
              "          await google.colab.kernel.invokeFunction('convertToInteractive',\n",
              "                                                    [key], {});\n",
              "        if (!dataTable) return;\n",
              "\n",
              "        const docLinkHtml = 'Like what you see? Visit the ' +\n",
              "          '<a target=\"_blank\" href=https://colab.research.google.com/notebooks/data_table.ipynb>data table notebook</a>'\n",
              "          + ' to learn more about interactive tables.';\n",
              "        element.innerHTML = '';\n",
              "        dataTable['output_type'] = 'display_data';\n",
              "        await google.colab.output.renderOutput(dataTable, element);\n",
              "        const docLink = document.createElement('div');\n",
              "        docLink.innerHTML = docLinkHtml;\n",
              "        element.appendChild(docLink);\n",
              "      }\n",
              "    </script>\n",
              "  </div>\n",
              "\n",
              "\n",
              "<div id=\"df-b980ce02-d792-4144-92b9-b21fadeb2858\">\n",
              "  <button class=\"colab-df-quickchart\" onclick=\"quickchart('df-b980ce02-d792-4144-92b9-b21fadeb2858')\"\n",
              "            title=\"Suggest charts\"\n",
              "            style=\"display:none;\">\n",
              "\n",
              "<svg xmlns=\"http://www.w3.org/2000/svg\" height=\"24px\"viewBox=\"0 0 24 24\"\n",
              "     width=\"24px\">\n",
              "    <g>\n",
              "        <path d=\"M19 3H5c-1.1 0-2 .9-2 2v14c0 1.1.9 2 2 2h14c1.1 0 2-.9 2-2V5c0-1.1-.9-2-2-2zM9 17H7v-7h2v7zm4 0h-2V7h2v10zm4 0h-2v-4h2v4z\"/>\n",
              "    </g>\n",
              "</svg>\n",
              "  </button>\n",
              "\n",
              "<style>\n",
              "  .colab-df-quickchart {\n",
              "      --bg-color: #E8F0FE;\n",
              "      --fill-color: #1967D2;\n",
              "      --hover-bg-color: #E2EBFA;\n",
              "      --hover-fill-color: #174EA6;\n",
              "      --disabled-fill-color: #AAA;\n",
              "      --disabled-bg-color: #DDD;\n",
              "  }\n",
              "\n",
              "  [theme=dark] .colab-df-quickchart {\n",
              "      --bg-color: #3B4455;\n",
              "      --fill-color: #D2E3FC;\n",
              "      --hover-bg-color: #434B5C;\n",
              "      --hover-fill-color: #FFFFFF;\n",
              "      --disabled-bg-color: #3B4455;\n",
              "      --disabled-fill-color: #666;\n",
              "  }\n",
              "\n",
              "  .colab-df-quickchart {\n",
              "    background-color: var(--bg-color);\n",
              "    border: none;\n",
              "    border-radius: 50%;\n",
              "    cursor: pointer;\n",
              "    display: none;\n",
              "    fill: var(--fill-color);\n",
              "    height: 32px;\n",
              "    padding: 0;\n",
              "    width: 32px;\n",
              "  }\n",
              "\n",
              "  .colab-df-quickchart:hover {\n",
              "    background-color: var(--hover-bg-color);\n",
              "    box-shadow: 0 1px 2px rgba(60, 64, 67, 0.3), 0 1px 3px 1px rgba(60, 64, 67, 0.15);\n",
              "    fill: var(--button-hover-fill-color);\n",
              "  }\n",
              "\n",
              "  .colab-df-quickchart-complete:disabled,\n",
              "  .colab-df-quickchart-complete:disabled:hover {\n",
              "    background-color: var(--disabled-bg-color);\n",
              "    fill: var(--disabled-fill-color);\n",
              "    box-shadow: none;\n",
              "  }\n",
              "\n",
              "  .colab-df-spinner {\n",
              "    border: 2px solid var(--fill-color);\n",
              "    border-color: transparent;\n",
              "    border-bottom-color: var(--fill-color);\n",
              "    animation:\n",
              "      spin 1s steps(1) infinite;\n",
              "  }\n",
              "\n",
              "  @keyframes spin {\n",
              "    0% {\n",
              "      border-color: transparent;\n",
              "      border-bottom-color: var(--fill-color);\n",
              "      border-left-color: var(--fill-color);\n",
              "    }\n",
              "    20% {\n",
              "      border-color: transparent;\n",
              "      border-left-color: var(--fill-color);\n",
              "      border-top-color: var(--fill-color);\n",
              "    }\n",
              "    30% {\n",
              "      border-color: transparent;\n",
              "      border-left-color: var(--fill-color);\n",
              "      border-top-color: var(--fill-color);\n",
              "      border-right-color: var(--fill-color);\n",
              "    }\n",
              "    40% {\n",
              "      border-color: transparent;\n",
              "      border-right-color: var(--fill-color);\n",
              "      border-top-color: var(--fill-color);\n",
              "    }\n",
              "    60% {\n",
              "      border-color: transparent;\n",
              "      border-right-color: var(--fill-color);\n",
              "    }\n",
              "    80% {\n",
              "      border-color: transparent;\n",
              "      border-right-color: var(--fill-color);\n",
              "      border-bottom-color: var(--fill-color);\n",
              "    }\n",
              "    90% {\n",
              "      border-color: transparent;\n",
              "      border-bottom-color: var(--fill-color);\n",
              "    }\n",
              "  }\n",
              "</style>\n",
              "\n",
              "  <script>\n",
              "    async function quickchart(key) {\n",
              "      const quickchartButtonEl =\n",
              "        document.querySelector('#' + key + ' button');\n",
              "      quickchartButtonEl.disabled = true;  // To prevent multiple clicks.\n",
              "      quickchartButtonEl.classList.add('colab-df-spinner');\n",
              "      try {\n",
              "        const charts = await google.colab.kernel.invokeFunction(\n",
              "            'suggestCharts', [key], {});\n",
              "      } catch (error) {\n",
              "        console.error('Error during call to suggestCharts:', error);\n",
              "      }\n",
              "      quickchartButtonEl.classList.remove('colab-df-spinner');\n",
              "      quickchartButtonEl.classList.add('colab-df-quickchart-complete');\n",
              "    }\n",
              "    (() => {\n",
              "      let quickchartButtonEl =\n",
              "        document.querySelector('#df-b980ce02-d792-4144-92b9-b21fadeb2858 button');\n",
              "      quickchartButtonEl.style.display =\n",
              "        google.colab.kernel.accessAllowed ? 'block' : 'none';\n",
              "    })();\n",
              "  </script>\n",
              "</div>\n",
              "    </div>\n",
              "  </div>\n"
            ]
          },
          "metadata": {},
          "execution_count": 20
        }
      ]
    },
    {
      "cell_type": "code",
      "source": [
        "data.drop('carat_bins', axis=1, inplace=True)"
      ],
      "metadata": {
        "id": "bfx6kchWbt2H"
      },
      "execution_count": 21,
      "outputs": []
    },
    {
      "cell_type": "markdown",
      "metadata": {
        "id": "E9xy8hetm9wG"
      },
      "source": [
        "#Task 8: Perform Data-Split"
      ]
    },
    {
      "cell_type": "code",
      "metadata": {
        "id": "Swr_A0p1m9r6"
      },
      "source": [
        "from sklearn.model_selection import train_test_split\n",
        "\n",
        "# Features: All columns except 'price'\n",
        "X = data.drop('price', axis=1)\n",
        "\n",
        "# Target variable: 'price'\n",
        "y = data['price']\n",
        "\n",
        "# Split the data into training and testing sets\n",
        "X_train, X_test, y_train, y_test = train_test_split(X, y, test_size=0.2, random_state=42)"
      ],
      "execution_count": 22,
      "outputs": []
    },
    {
      "cell_type": "code",
      "source": [
        "#the shape of the data\n",
        "print(f'The shape of the data is: \\nX_train: \\t{X_train.shape} \\nX_test: \\t{X_test.shape} \\ny_train: \\t{y_train.shape} \\ny_test: \\t{y_test.shape}')"
      ],
      "metadata": {
        "colab": {
          "base_uri": "https://localhost:8080/"
        },
        "id": "wIn0hg25v4kY",
        "outputId": "611a07f0-57f2-4b4f-f825-f396f0268b0f"
      },
      "execution_count": 23,
      "outputs": [
        {
          "output_type": "stream",
          "name": "stdout",
          "text": [
            "The shape of the data is: \n",
            "X_train: \t(43152, 26) \n",
            "X_test: \t(10788, 26) \n",
            "y_train: \t(43152,) \n",
            "y_test: \t(10788,)\n"
          ]
        }
      ]
    },
    {
      "cell_type": "markdown",
      "metadata": {
        "id": "CCJo3OYWm9oQ"
      },
      "source": [
        "#Task 9: Choose the ML Method to follow"
      ]
    },
    {
      "cell_type": "code",
      "metadata": {
        "id": "7UJWBSspm9lM"
      },
      "source": [
        "#model selection\n",
        "\n",
        "LinearRegression_model = LinearRegression()\n",
        "DecisionTree_model = DecisionTreeRegressor()\n",
        "RandomForest_model = RandomForestRegressor()\n",
        "XGBRegressor_model = XGBRegressor()"
      ],
      "execution_count": 24,
      "outputs": []
    },
    {
      "cell_type": "code",
      "source": [
        "X_train.info()"
      ],
      "metadata": {
        "colab": {
          "base_uri": "https://localhost:8080/"
        },
        "id": "TYYxyr0tbJur",
        "outputId": "d9f1ec51-52d5-475c-91df-79283454c22c"
      },
      "execution_count": 25,
      "outputs": [
        {
          "output_type": "stream",
          "name": "stdout",
          "text": [
            "<class 'pandas.core.frame.DataFrame'>\n",
            "Int64Index: 43152 entries, 26546 to 15795\n",
            "Data columns (total 26 columns):\n",
            " #   Column         Non-Null Count  Dtype  \n",
            "---  ------         --------------  -----  \n",
            " 0   carat          43152 non-null  float64\n",
            " 1   depth          43152 non-null  float64\n",
            " 2   table          43152 non-null  float64\n",
            " 3   x              43152 non-null  float64\n",
            " 4   y              43152 non-null  float64\n",
            " 5   z              43152 non-null  float64\n",
            " 6   cut_Fair       43152 non-null  uint8  \n",
            " 7   cut_Good       43152 non-null  uint8  \n",
            " 8   cut_Ideal      43152 non-null  uint8  \n",
            " 9   cut_Premium    43152 non-null  uint8  \n",
            " 10  cut_Very Good  43152 non-null  uint8  \n",
            " 11  color_D        43152 non-null  uint8  \n",
            " 12  color_E        43152 non-null  uint8  \n",
            " 13  color_F        43152 non-null  uint8  \n",
            " 14  color_G        43152 non-null  uint8  \n",
            " 15  color_H        43152 non-null  uint8  \n",
            " 16  color_I        43152 non-null  uint8  \n",
            " 17  color_J        43152 non-null  uint8  \n",
            " 18  clarity_I1     43152 non-null  uint8  \n",
            " 19  clarity_IF     43152 non-null  uint8  \n",
            " 20  clarity_SI1    43152 non-null  uint8  \n",
            " 21  clarity_SI2    43152 non-null  uint8  \n",
            " 22  clarity_VS1    43152 non-null  uint8  \n",
            " 23  clarity_VS2    43152 non-null  uint8  \n",
            " 24  clarity_VVS1   43152 non-null  uint8  \n",
            " 25  clarity_VVS2   43152 non-null  uint8  \n",
            "dtypes: float64(6), uint8(20)\n",
            "memory usage: 3.1 MB\n"
          ]
        }
      ]
    },
    {
      "cell_type": "markdown",
      "metadata": {
        "id": "Dmo0wF-vnXzD"
      },
      "source": [
        "#Task 10: Train the ML Model"
      ]
    },
    {
      "cell_type": "code",
      "metadata": {
        "id": "AUVPWfp9nXvl",
        "colab": {
          "base_uri": "https://localhost:8080/"
        },
        "outputId": "9682d960-ba8a-48b2-ef0e-502185fe65ae"
      },
      "source": [
        "#train multiple models\n",
        "\n",
        "models = [\n",
        "    ('Linear Regression', LinearRegression_model),\n",
        "    ('Decision Tree', DecisionTree_model),\n",
        "    ('Random Forest', RandomForest_model),\n",
        "    ('XGBoost', XGBRegressor_model)\n",
        "]\n",
        "\n",
        "for name, model in models:\n",
        "    model.fit(X_train, y_train)\n",
        "    print(f'{name} model is trained!')\n"
      ],
      "execution_count": 26,
      "outputs": [
        {
          "output_type": "stream",
          "name": "stdout",
          "text": [
            "Linear Regression model is trained!\n",
            "Decision Tree model is trained!\n",
            "Random Forest model is trained!\n",
            "XGBoost model is trained!\n"
          ]
        }
      ]
    },
    {
      "cell_type": "code",
      "source": [
        "# calculating the accuracy scores for each of the models\n",
        "\n",
        "accuracy_LinearRegression = LinearRegression_model.score(X_test, y_test)\n",
        "accuracy_DecisionTree = DecisionTree_model.score(X_test, y_test)\n",
        "accuracy_RandomForest = RandomForest_model.score(X_test, y_test)\n",
        "accuracy_XGBoost = XGBRegressor_model.score(X_test, y_test)"
      ],
      "metadata": {
        "id": "6D3tTF2exQzn"
      },
      "execution_count": 27,
      "outputs": []
    },
    {
      "cell_type": "code",
      "source": [
        "#Accuracy Calculation\n",
        "\n",
        "models = {'LinearRegression_model': accuracy_LinearRegression, 'DecisionTree_model': accuracy_DecisionTree, 'RandomForest_model': accuracy_RandomForest,\n",
        "          'XGBRegressor_model': accuracy_XGBoost}\n",
        "\n",
        "# a loop that iterates over the items in the models dictionary\n",
        "for model, score in models.items():\n",
        "    print(f'The accuracy score for the {model} is {round(score*100, 2)}%')"
      ],
      "metadata": {
        "colab": {
          "base_uri": "https://localhost:8080/"
        },
        "id": "63jo9sQkxSqT",
        "outputId": "af86b20e-cd19-423b-dfa4-ca1eb5a19c6c"
      },
      "execution_count": 28,
      "outputs": [
        {
          "output_type": "stream",
          "name": "stdout",
          "text": [
            "The accuracy score for the LinearRegression_model is 91.89%\n",
            "The accuracy score for the DecisionTree_model is 96.51%\n",
            "The accuracy score for the RandomForest_model is 98.09%\n",
            "The accuracy score for the XGBRegressor_model is 98.0%\n"
          ]
        }
      ]
    },
    {
      "cell_type": "markdown",
      "source": [
        "**Based on the accuracy scores above, all the models got score higher than 90%, and RandomForest_model appears to have the highest accuracy, followed closely by XGBRegressor_model. Let's do the test and see how it works.**\n"
      ],
      "metadata": {
        "id": "1nvv8qaStATi"
      }
    },
    {
      "cell_type": "markdown",
      "metadata": {
        "id": "RYSfWcCcnXsb"
      },
      "source": [
        "#Task 11: Test the Model"
      ]
    },
    {
      "cell_type": "code",
      "metadata": {
        "id": "ssX8vUw8nXov"
      },
      "source": [
        "mdl_file5 = '/content/drive/MyDrive/LaGuardia Class/assignment'"
      ],
      "execution_count": 29,
      "outputs": []
    },
    {
      "cell_type": "code",
      "metadata": {
        "id": "2ZDwzmMvnXmA"
      },
      "source": [
        "# Save the trained model to a file named 'mdl_file5'\n",
        "\n",
        "with open('mdl_file5', 'wb') as file:\n",
        "  model = pickle.dump(RandomForest_model, file)\n"
      ],
      "execution_count": 30,
      "outputs": []
    },
    {
      "cell_type": "code",
      "metadata": {
        "id": "nZ3uIMaFnXfr",
        "colab": {
          "base_uri": "https://localhost:8080/"
        },
        "outputId": "834b5e17-7bc5-458f-e593-3aaaf511037d"
      },
      "source": [
        "data.columns"
      ],
      "execution_count": 31,
      "outputs": [
        {
          "output_type": "execute_result",
          "data": {
            "text/plain": [
              "Index(['carat', 'depth', 'table', 'price', 'x', 'y', 'z', 'cut_Fair',\n",
              "       'cut_Good', 'cut_Ideal', 'cut_Premium', 'cut_Very Good', 'color_D',\n",
              "       'color_E', 'color_F', 'color_G', 'color_H', 'color_I', 'color_J',\n",
              "       'clarity_I1', 'clarity_IF', 'clarity_SI1', 'clarity_SI2', 'clarity_VS1',\n",
              "       'clarity_VS2', 'clarity_VVS1', 'clarity_VVS2'],\n",
              "      dtype='object')"
            ]
          },
          "metadata": {},
          "execution_count": 31
        }
      ]
    },
    {
      "cell_type": "code",
      "metadata": {
        "id": "ufa3Ch6inXcK",
        "colab": {
          "base_uri": "https://localhost:8080/"
        },
        "outputId": "ec7f8449-8a33-4a4e-b4fd-1ed0e1483033"
      },
      "source": [
        "#create an array\n",
        "\n",
        "test_x = np.zeros((1, 26))\n",
        "test_x"
      ],
      "execution_count": 32,
      "outputs": [
        {
          "output_type": "execute_result",
          "data": {
            "text/plain": [
              "array([[0., 0., 0., 0., 0., 0., 0., 0., 0., 0., 0., 0., 0., 0., 0., 0.,\n",
              "        0., 0., 0., 0., 0., 0., 0., 0., 0., 0.]])"
            ]
          },
          "metadata": {},
          "execution_count": 32
        }
      ]
    },
    {
      "cell_type": "code",
      "source": [
        "#take loc[2] as test\n",
        "\n",
        "data.loc[2]"
      ],
      "metadata": {
        "colab": {
          "base_uri": "https://localhost:8080/"
        },
        "id": "r8UpmwEwdQmV",
        "outputId": "1384d24f-9616-4bfc-d287-eeafdf8e3783"
      },
      "execution_count": 33,
      "outputs": [
        {
          "output_type": "execute_result",
          "data": {
            "text/plain": [
              "carat              0.23\n",
              "depth             56.90\n",
              "table             65.00\n",
              "price            327.00\n",
              "x                  4.05\n",
              "y                  4.07\n",
              "z                  2.31\n",
              "cut_Fair           0.00\n",
              "cut_Good           1.00\n",
              "cut_Ideal          0.00\n",
              "cut_Premium        0.00\n",
              "cut_Very Good      0.00\n",
              "color_D            0.00\n",
              "color_E            1.00\n",
              "color_F            0.00\n",
              "color_G            0.00\n",
              "color_H            0.00\n",
              "color_I            0.00\n",
              "color_J            0.00\n",
              "clarity_I1         0.00\n",
              "clarity_IF         0.00\n",
              "clarity_SI1        0.00\n",
              "clarity_SI2        0.00\n",
              "clarity_VS1        1.00\n",
              "clarity_VS2        0.00\n",
              "clarity_VVS1       0.00\n",
              "clarity_VVS2       0.00\n",
              "Name: 2, dtype: float64"
            ]
          },
          "metadata": {},
          "execution_count": 33
        }
      ]
    },
    {
      "cell_type": "code",
      "source": [
        "test_x = np.zeros((1, 26))\n",
        "\n",
        "test_x[0, 0] = 0.23     # carat\n",
        "test_x[0, 1] = 56.90    # depth\n",
        "test_x[0, 2] = 65.00    # table\n",
        "test_x[0, 3] = 4.05     # x\n",
        "test_x[0, 4] = 4.07     # y\n",
        "test_x[0, 5] = 2.31     # z\n",
        "test_x[0, 6] = 0.00     # cut_Fair\n",
        "test_x[0, 7] = 1.00     # cut_Good\n",
        "test_x[0, 8] = 0.00     # cut_Ideal\n",
        "test_x[0, 9] = 0.00     # cut_Premium\n",
        "test_x[0, 10] = 0.00    # cut_Very Good\n",
        "test_x[0, 11] = 0.00    # color_D\n",
        "test_x[0, 12] = 1.00    # color_E\n",
        "test_x[0, 13] = 0.00    # color_F\n",
        "test_x[0, 14] = 0.00    # color_G\n",
        "test_x[0, 15] = 0.00    # color_H\n",
        "test_x[0, 16] = 0.00    # color_I\n",
        "test_x[0, 17] = 0.00    # color_J\n",
        "test_x[0, 18] = 0.00    # clarity_I1\n",
        "test_x[0, 19] = 0.00    # clarity_IF\n",
        "test_x[0, 20] = 0.00    # clarity_SI1\n",
        "test_x[0, 21] = 0.00    # clarity_SI2\n",
        "test_x[0, 22] = 1.00    # clarity_VS1\n",
        "test_x[0, 23] = 0.00    # clarity_VS2\n",
        "test_x[0, 24] = 0.00    # clarity_VVS1\n",
        "test_x[0, 25] = 0.00    # clarity_VVS2\n",
        "test_x"
      ],
      "metadata": {
        "colab": {
          "base_uri": "https://localhost:8080/"
        },
        "id": "PyGtYr67ci-0",
        "outputId": "884f7ecf-296c-4827-bf45-0d93cd17f715"
      },
      "execution_count": 34,
      "outputs": [
        {
          "output_type": "execute_result",
          "data": {
            "text/plain": [
              "array([[ 0.23, 56.9 , 65.  ,  4.05,  4.07,  2.31,  0.  ,  1.  ,  0.  ,\n",
              "         0.  ,  0.  ,  0.  ,  1.  ,  0.  ,  0.  ,  0.  ,  0.  ,  0.  ,\n",
              "         0.  ,  0.  ,  0.  ,  0.  ,  1.  ,  0.  ,  0.  ,  0.  ]])"
            ]
          },
          "metadata": {},
          "execution_count": 34
        }
      ]
    },
    {
      "cell_type": "code",
      "source": [
        "prediction = RandomForest_model.predict(test_x)\n",
        "round(float(prediction[0]), 2)"
      ],
      "metadata": {
        "colab": {
          "base_uri": "https://localhost:8080/"
        },
        "id": "Ts1kJIMLwHDS",
        "outputId": "b3da126c-a121-4dd0-b91c-c6e650ecd21a"
      },
      "execution_count": 35,
      "outputs": [
        {
          "output_type": "stream",
          "name": "stderr",
          "text": [
            "/usr/local/lib/python3.10/dist-packages/sklearn/base.py:439: UserWarning: X does not have valid feature names, but RandomForestRegressor was fitted with feature names\n",
            "  warnings.warn(\n"
          ]
        },
        {
          "output_type": "execute_result",
          "data": {
            "text/plain": [
              "355.25"
            ]
          },
          "metadata": {},
          "execution_count": 35
        }
      ]
    },
    {
      "cell_type": "markdown",
      "source": [
        "**That's not the correct answer, but close to it.**"
      ],
      "metadata": {
        "id": "C8WyrH03WyT9"
      }
    },
    {
      "cell_type": "code",
      "source": [
        "#Let's predict the price in 4 models\n",
        "\n",
        "models = [LinearRegression_model, DecisionTree_model, RandomForest_model, XGBRegressor_model]"
      ],
      "metadata": {
        "id": "LJrGCjUkfh7H"
      },
      "execution_count": 36,
      "outputs": []
    },
    {
      "cell_type": "code",
      "source": [
        "for model in models:\n",
        "    prediction = model.predict(test_x)  #For each model, use the predict method to make a prediction based on the test_x input.\n",
        "    print(f'The model {model} predicts the diamond price as: {round(float(prediction[0]), 2)}')"
      ],
      "metadata": {
        "colab": {
          "base_uri": "https://localhost:8080/"
        },
        "id": "8Docef_ufwAh",
        "outputId": "77f4f0d9-e54c-453b-b97b-5515865601ac"
      },
      "execution_count": 37,
      "outputs": [
        {
          "output_type": "stream",
          "name": "stdout",
          "text": [
            "The model LinearRegression() predicts the diamond price as: 198.07\n",
            "The model DecisionTreeRegressor() predicts the diamond price as: 327.0\n",
            "The model RandomForestRegressor() predicts the diamond price as: 355.25\n",
            "The model XGBRegressor(base_score=None, booster=None, callbacks=None,\n",
            "             colsample_bylevel=None, colsample_bynode=None,\n",
            "             colsample_bytree=None, device=None, early_stopping_rounds=None,\n",
            "             enable_categorical=False, eval_metric=None, feature_types=None,\n",
            "             gamma=None, grow_policy=None, importance_type=None,\n",
            "             interaction_constraints=None, learning_rate=None, max_bin=None,\n",
            "             max_cat_threshold=None, max_cat_to_onehot=None,\n",
            "             max_delta_step=None, max_depth=None, max_leaves=None,\n",
            "             min_child_weight=None, missing=nan, monotone_constraints=None,\n",
            "             multi_strategy=None, n_estimators=None, n_jobs=None,\n",
            "             num_parallel_tree=None, random_state=None, ...) predicts the diamond price as: 367.2\n"
          ]
        },
        {
          "output_type": "stream",
          "name": "stderr",
          "text": [
            "/usr/local/lib/python3.10/dist-packages/sklearn/base.py:439: UserWarning: X does not have valid feature names, but LinearRegression was fitted with feature names\n",
            "  warnings.warn(\n",
            "/usr/local/lib/python3.10/dist-packages/sklearn/base.py:439: UserWarning: X does not have valid feature names, but DecisionTreeRegressor was fitted with feature names\n",
            "  warnings.warn(\n",
            "/usr/local/lib/python3.10/dist-packages/sklearn/base.py:439: UserWarning: X does not have valid feature names, but RandomForestRegressor was fitted with feature names\n",
            "  warnings.warn(\n"
          ]
        }
      ]
    },
    {
      "cell_type": "markdown",
      "source": [
        "Based on this single prediction, the Decision Tree model seems to be the most accurate. However, it's important to note that the performance of a model on a single prediction may not necessarily reflect its overall performance on a larger dataset.\n",
        "\n",
        "To make a more informed decision, we should evaluate the models on a broader range of data and possibly use techniques like cross-validation to assess their performance. Additionally, consider other evaluation metrics besides just accuracy, such as mean squared error or R-squared, depending on the specific goals of our modeling task."
      ],
      "metadata": {
        "id": "DLMX_CG-f6Xp"
      }
    },
    {
      "cell_type": "markdown",
      "source": [
        "**Let's do another test**"
      ],
      "metadata": {
        "id": "Fxh_G2RiX37q"
      }
    },
    {
      "cell_type": "code",
      "source": [
        "data.loc[10]"
      ],
      "metadata": {
        "colab": {
          "base_uri": "https://localhost:8080/"
        },
        "id": "OCAW9vNNX1gU",
        "outputId": "3d364ee5-9929-475d-bde8-869fa5bdc8d2"
      },
      "execution_count": 38,
      "outputs": [
        {
          "output_type": "execute_result",
          "data": {
            "text/plain": [
              "carat              0.30\n",
              "depth             64.00\n",
              "table             55.00\n",
              "price            339.00\n",
              "x                  4.25\n",
              "y                  4.28\n",
              "z                  2.73\n",
              "cut_Fair           0.00\n",
              "cut_Good           1.00\n",
              "cut_Ideal          0.00\n",
              "cut_Premium        0.00\n",
              "cut_Very Good      0.00\n",
              "color_D            0.00\n",
              "color_E            0.00\n",
              "color_F            0.00\n",
              "color_G            0.00\n",
              "color_H            0.00\n",
              "color_I            0.00\n",
              "color_J            1.00\n",
              "clarity_I1         0.00\n",
              "clarity_IF         0.00\n",
              "clarity_SI1        1.00\n",
              "clarity_SI2        0.00\n",
              "clarity_VS1        0.00\n",
              "clarity_VS2        0.00\n",
              "clarity_VVS1       0.00\n",
              "clarity_VVS2       0.00\n",
              "Name: 10, dtype: float64"
            ]
          },
          "metadata": {},
          "execution_count": 38
        }
      ]
    },
    {
      "cell_type": "code",
      "source": [
        "#data.loc[10] --> price: 339\n",
        "\n",
        "test_x = np.zeros((1, 26))\n",
        "\n",
        "test_x[0, 0] = 0.30     # carat\n",
        "test_x[0, 1] = 64.00    # depth\n",
        "test_x[0, 2] = 55.00    # table\n",
        "test_x[0, 3] = 4.25     # x\n",
        "test_x[0, 4] = 4.28     # y\n",
        "test_x[0, 5] = 2.73     # z\n",
        "test_x[0, 6] = 0.00     # cut_Fair\n",
        "test_x[0, 7] = 1.00     # cut_Good\n",
        "test_x[0, 8] = 0.00     # cut_Ideal\n",
        "test_x[0, 9] = 0.00     # cut_Premium\n",
        "test_x[0, 10] = 0.00    # cut_Very Good\n",
        "test_x[0, 11] = 0.00    # color_D\n",
        "test_x[0, 12] = 0.00    # color_E\n",
        "test_x[0, 13] = 0.00    # color_F\n",
        "test_x[0, 14] = 0.00    # color_G\n",
        "test_x[0, 15] = 0.00    # color_H\n",
        "test_x[0, 16] = 0.00    # color_I\n",
        "test_x[0, 17] = 1.00    # color_J\n",
        "test_x[0, 18] = 0.00    # clarity_I1\n",
        "test_x[0, 19] = 0.00    # clarity_IF\n",
        "test_x[0, 20] = 1.00    # clarity_SI1\n",
        "test_x[0, 21] = 0.00    # clarity_SI2\n",
        "test_x[0, 22] = 0.00    # clarity_VS1\n",
        "test_x[0, 23] = 0.00    # clarity_VS2\n",
        "test_x[0, 24] = 0.00    # clarity_VVS1\n",
        "test_x[0, 25] = 0.00    # clarity_VVS2\n",
        "test_x"
      ],
      "metadata": {
        "colab": {
          "base_uri": "https://localhost:8080/"
        },
        "id": "pigSGBcfcJJI",
        "outputId": "16c8cdfb-8ba8-4638-b2f7-d6a42254e015"
      },
      "execution_count": 39,
      "outputs": [
        {
          "output_type": "execute_result",
          "data": {
            "text/plain": [
              "array([[ 0.3 , 64.  , 55.  ,  4.25,  4.28,  2.73,  0.  ,  1.  ,  0.  ,\n",
              "         0.  ,  0.  ,  0.  ,  0.  ,  0.  ,  0.  ,  0.  ,  0.  ,  1.  ,\n",
              "         0.  ,  0.  ,  1.  ,  0.  ,  0.  ,  0.  ,  0.  ,  0.  ]])"
            ]
          },
          "metadata": {},
          "execution_count": 39
        }
      ]
    },
    {
      "cell_type": "code",
      "source": [
        "#predict the target variable based on the features in test_x.\n",
        "#The prediction is stored in the variable prediction.\n",
        "\n",
        "for model in models:\n",
        "    prediction = model.predict(test_x)  #For each model, use the predict method to make a prediction based on the test_x input.\n",
        "    print(f'The model {model} predicts the diamond price as ${round(float(prediction[0]), 2)}')  #This calculates the predicted diamond price, rounds it to two decimal places, and converts it to a float.\n"
      ],
      "metadata": {
        "colab": {
          "base_uri": "https://localhost:8080/"
        },
        "id": "5wvkQT2lcJEv",
        "outputId": "974c4484-7220-4098-f389-8b5e9380d4fa"
      },
      "execution_count": 40,
      "outputs": [
        {
          "output_type": "stream",
          "name": "stdout",
          "text": [
            "The model LinearRegression() predicts the diamond price as $-2484.4\n",
            "The model DecisionTreeRegressor() predicts the diamond price as $339.0\n",
            "The model RandomForestRegressor() predicts the diamond price as $354.85\n",
            "The model XGBRegressor(base_score=None, booster=None, callbacks=None,\n",
            "             colsample_bylevel=None, colsample_bynode=None,\n",
            "             colsample_bytree=None, device=None, early_stopping_rounds=None,\n",
            "             enable_categorical=False, eval_metric=None, feature_types=None,\n",
            "             gamma=None, grow_policy=None, importance_type=None,\n",
            "             interaction_constraints=None, learning_rate=None, max_bin=None,\n",
            "             max_cat_threshold=None, max_cat_to_onehot=None,\n",
            "             max_delta_step=None, max_depth=None, max_leaves=None,\n",
            "             min_child_weight=None, missing=nan, monotone_constraints=None,\n",
            "             multi_strategy=None, n_estimators=None, n_jobs=None,\n",
            "             num_parallel_tree=None, random_state=None, ...) predicts the diamond price as $363.52\n"
          ]
        },
        {
          "output_type": "stream",
          "name": "stderr",
          "text": [
            "/usr/local/lib/python3.10/dist-packages/sklearn/base.py:439: UserWarning: X does not have valid feature names, but LinearRegression was fitted with feature names\n",
            "  warnings.warn(\n",
            "/usr/local/lib/python3.10/dist-packages/sklearn/base.py:439: UserWarning: X does not have valid feature names, but DecisionTreeRegressor was fitted with feature names\n",
            "  warnings.warn(\n",
            "/usr/local/lib/python3.10/dist-packages/sklearn/base.py:439: UserWarning: X does not have valid feature names, but RandomForestRegressor was fitted with feature names\n",
            "  warnings.warn(\n"
          ]
        }
      ]
    },
    {
      "cell_type": "markdown",
      "source": [
        "**Decision Tree still got the correct answer, I would like to choose Decision Tree Model:**\n",
        "\n",
        "The Decision Tree model was chosen for predicting diamond prices due to its inherent ability to capture complex, non-linear relationships present in the data.\n",
        "\n",
        "Unlike Linear Regression, which assumes linear patterns, diamonds' pricing involves intricate interactions among various attributes like carat, cut, and clarity etc. Decision Trees excel at capturing these intricate relationships, offering a more nuanced understanding of how different factors influence diamond prices."
      ],
      "metadata": {
        "id": "6ZknXQvBXSi3"
      }
    },
    {
      "cell_type": "code",
      "source": [
        "mdl_file_v6 = '/content/drive/MyDrive/LaGuardia Class/assignment'"
      ],
      "metadata": {
        "id": "PWchk5a0SAl2"
      },
      "execution_count": 41,
      "outputs": []
    },
    {
      "cell_type": "code",
      "source": [
        "decision_tree_model = '/content/drive/MyDrive/LaGuardia Class/assignment/decision_tree.pkl'"
      ],
      "metadata": {
        "id": "LXZLp3bpwsOd"
      },
      "execution_count": 42,
      "outputs": []
    },
    {
      "cell_type": "code",
      "source": [
        "import pickle\n",
        "with open('decision_tree_model', 'wb') as file:\n",
        "    model = pickle.dump(DecisionTree_model, file)\n"
      ],
      "metadata": {
        "id": "6slja5J5cJB-"
      },
      "execution_count": 43,
      "outputs": []
    },
    {
      "cell_type": "code",
      "source": [
        "test_x = np.zeros((1, 26))\n",
        "\n",
        "test_x[0, 0] = 0.30     # carat\n",
        "test_x[0, 1] = 64.00    # depth\n",
        "test_x[0, 2] = 55.00    # table\n",
        "test_x[0, 3] = 4.25     # x\n",
        "test_x[0, 4] = 4.28     # y\n",
        "test_x[0, 5] = 2.73     # z\n",
        "test_x[0, 6] = 0.00     # cut_Fair\n",
        "test_x[0, 7] = 1.00     # cut_Good\n",
        "test_x[0, 8] = 0.00     # cut_Ideal\n",
        "test_x[0, 9] = 0.00     # cut_Premium\n",
        "test_x[0, 10] = 0.00    # cut_Very Good\n",
        "test_x[0, 11] = 0.00    # color_D\n",
        "test_x[0, 12] = 0.00    # color_E\n",
        "test_x[0, 13] = 0.00    # color_F\n",
        "test_x[0, 14] = 0.00    # color_G\n",
        "test_x[0, 15] = 0.00    # color_H\n",
        "test_x[0, 16] = 0.00    # color_I\n",
        "test_x[0, 17] = 1.00    # color_J\n",
        "test_x[0, 18] = 0.00    # clarity_I1\n",
        "test_x[0, 19] = 0.00    # clarity_IF\n",
        "test_x[0, 20] = 1.00    # clarity_SI1\n",
        "test_x[0, 21] = 0.00    # clarity_SI2\n",
        "test_x[0, 22] = 0.00    # clarity_VS1\n",
        "test_x[0, 23] = 0.00    # clarity_VS2\n",
        "test_x[0, 24] = 0.00    # clarity_VVS1\n",
        "test_x[0, 25] = 0.00    # clarity_VVS2\n",
        "test_x"
      ],
      "metadata": {
        "colab": {
          "base_uri": "https://localhost:8080/"
        },
        "id": "Y2sIxSjaQBLX",
        "outputId": "e69ff662-0726-4974-a7b1-1615bb537069"
      },
      "execution_count": 44,
      "outputs": [
        {
          "output_type": "execute_result",
          "data": {
            "text/plain": [
              "array([[ 0.3 , 64.  , 55.  ,  4.25,  4.28,  2.73,  0.  ,  1.  ,  0.  ,\n",
              "         0.  ,  0.  ,  0.  ,  0.  ,  0.  ,  0.  ,  0.  ,  0.  ,  1.  ,\n",
              "         0.  ,  0.  ,  1.  ,  0.  ,  0.  ,  0.  ,  0.  ,  0.  ]])"
            ]
          },
          "metadata": {},
          "execution_count": 44
        }
      ]
    },
    {
      "cell_type": "code",
      "source": [
        "prediction = model.predict(test_x)\n",
        "round(float(prediction[0]), 2)"
      ],
      "metadata": {
        "colab": {
          "base_uri": "https://localhost:8080/"
        },
        "id": "kxA69yuaQF3m",
        "outputId": "a0bed939-b156-43c7-db42-3f3ebcf5b370"
      },
      "execution_count": 48,
      "outputs": [
        {
          "output_type": "stream",
          "name": "stdout",
          "text": [
            "1/1 [==============================] - 2s 2s/step\n"
          ]
        },
        {
          "output_type": "execute_result",
          "data": {
            "text/plain": [
              "1.6"
            ]
          },
          "metadata": {},
          "execution_count": 48
        }
      ]
    },
    {
      "cell_type": "markdown",
      "source": [
        "##Part 2"
      ],
      "metadata": {
        "id": "hl3Oy7gEWgft"
      }
    },
    {
      "cell_type": "code",
      "source": [
        "from tensorflow.keras.models import Sequential, load_model\n",
        "from tensorflow.keras.layers import Dense, Activation\n",
        "from tensorflow.keras.callbacks import EarlyStopping\n",
        "from sklearn.model_selection import train_test_split\n",
        "from sklearn import metrics"
      ],
      "metadata": {
        "id": "7tbiSLEJPubl"
      },
      "execution_count": 46,
      "outputs": []
    },
    {
      "cell_type": "code",
      "source": [
        "#defining a neural network model using the Keras library, specifically using the Sequential model.\n",
        "model = Sequential()\n",
        "\n",
        "#input layer\n",
        "model.add(Dense(25, input_dim = X.shape[1], activation = 'relu'))\n",
        "#Dense layer with 25 neurons,\n",
        "# expecting an input dimension equal to the number of features in your data (x.shape[1]).\n",
        "#The activation function used here is Rectified Linear Unit (ReLU).\n",
        "\n",
        "#Hidden Layer:\n",
        "model.add(Dense(10, activation = 'relu'))\n",
        "#Dense layer with 10 neurons and ReLU activation function.\n",
        "\n",
        "#Output Layer:\n",
        "model.add(Dense(1))"
      ],
      "metadata": {
        "id": "mT2ejwsRPuZn"
      },
      "execution_count": 47,
      "outputs": []
    },
    {
      "cell_type": "code",
      "source": [
        "model.compile(loss = 'mean_squared_error', optimizer = 'adam')\n"
      ],
      "metadata": {
        "id": "1rAXqS_gPuXr"
      },
      "execution_count": 50,
      "outputs": []
    },
    {
      "cell_type": "code",
      "source": [
        "monitor = EarlyStopping(monitor = 'val_loss', min_delta = 1e-3, patience = 5, verbose = 1, mode = 'auto', restore_best_weights = True)\n"
      ],
      "metadata": {
        "id": "fsZ4mUZNPuWH"
      },
      "execution_count": 51,
      "outputs": []
    },
    {
      "cell_type": "code",
      "source": [
        "model.fit(X_train, y_train, validation_data = (X_test, y_test), callbacks = [monitor], verbose = 2, epochs = 1000)"
      ],
      "metadata": {
        "colab": {
          "base_uri": "https://localhost:8080/"
        },
        "id": "OFRmqPmtPuT3",
        "outputId": "b3aa750f-8ed0-4667-a956-05e12ee31370"
      },
      "execution_count": 52,
      "outputs": [
        {
          "output_type": "stream",
          "name": "stdout",
          "text": [
            "Epoch 1/1000\n",
            "1349/1349 - 8s - loss: 18761052.0000 - val_loss: 14437100.0000 - 8s/epoch - 6ms/step\n",
            "Epoch 2/1000\n",
            "1349/1349 - 4s - loss: 13315016.0000 - val_loss: 11678688.0000 - 4s/epoch - 3ms/step\n",
            "Epoch 3/1000\n",
            "1349/1349 - 4s - loss: 9200322.0000 - val_loss: 6293450.0000 - 4s/epoch - 3ms/step\n",
            "Epoch 4/1000\n",
            "1349/1349 - 5s - loss: 4566241.0000 - val_loss: 3300816.2500 - 5s/epoch - 3ms/step\n",
            "Epoch 5/1000\n",
            "1349/1349 - 5s - loss: 2860632.7500 - val_loss: 2247203.7500 - 5s/epoch - 4ms/step\n",
            "Epoch 6/1000\n",
            "1349/1349 - 4s - loss: 2064314.8750 - val_loss: 1691950.2500 - 4s/epoch - 3ms/step\n",
            "Epoch 7/1000\n",
            "1349/1349 - 4s - loss: 1641891.8750 - val_loss: 1324793.6250 - 4s/epoch - 3ms/step\n",
            "Epoch 8/1000\n",
            "1349/1349 - 5s - loss: 1401664.8750 - val_loss: 1138717.3750 - 5s/epoch - 4ms/step\n",
            "Epoch 9/1000\n",
            "1349/1349 - 4s - loss: 1247451.5000 - val_loss: 1007999.0000 - 4s/epoch - 3ms/step\n",
            "Epoch 10/1000\n",
            "1349/1349 - 4s - loss: 1150208.5000 - val_loss: 919712.2500 - 4s/epoch - 3ms/step\n",
            "Epoch 11/1000\n",
            "1349/1349 - 5s - loss: 1082638.8750 - val_loss: 884017.2500 - 5s/epoch - 3ms/step\n",
            "Epoch 12/1000\n",
            "1349/1349 - 5s - loss: 1036979.8750 - val_loss: 829535.7500 - 5s/epoch - 4ms/step\n",
            "Epoch 13/1000\n",
            "1349/1349 - 4s - loss: 1001934.3750 - val_loss: 833198.1875 - 4s/epoch - 3ms/step\n",
            "Epoch 14/1000\n",
            "1349/1349 - 4s - loss: 975279.3125 - val_loss: 786415.3125 - 4s/epoch - 3ms/step\n",
            "Epoch 15/1000\n",
            "1349/1349 - 6s - loss: 952289.5000 - val_loss: 755889.8750 - 6s/epoch - 4ms/step\n",
            "Epoch 16/1000\n",
            "1349/1349 - 4s - loss: 933588.3125 - val_loss: 749921.6250 - 4s/epoch - 3ms/step\n",
            "Epoch 17/1000\n",
            "1349/1349 - 4s - loss: 916924.2500 - val_loss: 731369.2500 - 4s/epoch - 3ms/step\n",
            "Epoch 18/1000\n",
            "1349/1349 - 5s - loss: 903813.3750 - val_loss: 722179.2500 - 5s/epoch - 4ms/step\n",
            "Epoch 19/1000\n",
            "1349/1349 - 5s - loss: 887836.9375 - val_loss: 714626.8750 - 5s/epoch - 4ms/step\n",
            "Epoch 20/1000\n",
            "1349/1349 - 4s - loss: 875634.6875 - val_loss: 705753.8125 - 4s/epoch - 3ms/step\n",
            "Epoch 21/1000\n",
            "1349/1349 - 4s - loss: 860815.0625 - val_loss: 700369.3750 - 4s/epoch - 3ms/step\n",
            "Epoch 22/1000\n",
            "1349/1349 - 6s - loss: 850924.3750 - val_loss: 695928.2500 - 6s/epoch - 5ms/step\n",
            "Epoch 23/1000\n",
            "1349/1349 - 4s - loss: 836111.3750 - val_loss: 682052.1250 - 4s/epoch - 3ms/step\n",
            "Epoch 24/1000\n",
            "1349/1349 - 4s - loss: 823061.2500 - val_loss: 670423.8125 - 4s/epoch - 3ms/step\n",
            "Epoch 25/1000\n",
            "1349/1349 - 6s - loss: 801311.0625 - val_loss: 654063.7500 - 6s/epoch - 4ms/step\n",
            "Epoch 26/1000\n",
            "1349/1349 - 4s - loss: 784156.7500 - val_loss: 643830.6250 - 4s/epoch - 3ms/step\n",
            "Epoch 27/1000\n",
            "1349/1349 - 4s - loss: 773204.3125 - val_loss: 634833.3125 - 4s/epoch - 3ms/step\n",
            "Epoch 28/1000\n",
            "1349/1349 - 5s - loss: 756726.7500 - val_loss: 623836.5000 - 5s/epoch - 3ms/step\n",
            "Epoch 29/1000\n",
            "1349/1349 - 5s - loss: 740498.3125 - val_loss: 616491.9375 - 5s/epoch - 4ms/step\n",
            "Epoch 30/1000\n",
            "1349/1349 - 4s - loss: 732855.5000 - val_loss: 610029.3750 - 4s/epoch - 3ms/step\n",
            "Epoch 31/1000\n",
            "1349/1349 - 4s - loss: 726605.8125 - val_loss: 609111.4375 - 4s/epoch - 3ms/step\n",
            "Epoch 32/1000\n",
            "1349/1349 - 6s - loss: 719151.8125 - val_loss: 606052.1875 - 6s/epoch - 4ms/step\n",
            "Epoch 33/1000\n",
            "1349/1349 - 4s - loss: 711484.4375 - val_loss: 597470.1250 - 4s/epoch - 3ms/step\n",
            "Epoch 34/1000\n",
            "1349/1349 - 4s - loss: 705941.6250 - val_loss: 593894.5625 - 4s/epoch - 3ms/step\n",
            "Epoch 35/1000\n",
            "1349/1349 - 5s - loss: 699208.4375 - val_loss: 589541.1250 - 5s/epoch - 4ms/step\n",
            "Epoch 36/1000\n",
            "1349/1349 - 5s - loss: 693656.3750 - val_loss: 586705.5000 - 5s/epoch - 4ms/step\n",
            "Epoch 37/1000\n",
            "1349/1349 - 4s - loss: 685657.0625 - val_loss: 582719.6875 - 4s/epoch - 3ms/step\n",
            "Epoch 38/1000\n",
            "1349/1349 - 4s - loss: 680169.2500 - val_loss: 597358.3750 - 4s/epoch - 3ms/step\n",
            "Epoch 39/1000\n",
            "1349/1349 - 5s - loss: 676891.1250 - val_loss: 576188.6250 - 5s/epoch - 4ms/step\n",
            "Epoch 40/1000\n",
            "1349/1349 - 4s - loss: 669468.8750 - val_loss: 577127.2500 - 4s/epoch - 3ms/step\n",
            "Epoch 41/1000\n",
            "1349/1349 - 4s - loss: 665469.8750 - val_loss: 568984.7500 - 4s/epoch - 3ms/step\n",
            "Epoch 42/1000\n",
            "1349/1349 - 5s - loss: 659701.2500 - val_loss: 567172.2500 - 5s/epoch - 4ms/step\n",
            "Epoch 43/1000\n",
            "1349/1349 - 5s - loss: 653678.5625 - val_loss: 572037.4375 - 5s/epoch - 4ms/step\n",
            "Epoch 44/1000\n",
            "1349/1349 - 4s - loss: 648919.0000 - val_loss: 589675.1875 - 4s/epoch - 3ms/step\n",
            "Epoch 45/1000\n",
            "1349/1349 - 4s - loss: 643893.3750 - val_loss: 558145.9375 - 4s/epoch - 3ms/step\n",
            "Epoch 46/1000\n",
            "1349/1349 - 6s - loss: 637583.5000 - val_loss: 551764.2500 - 6s/epoch - 5ms/step\n",
            "Epoch 47/1000\n",
            "1349/1349 - 4s - loss: 633232.8750 - val_loss: 556872.7500 - 4s/epoch - 3ms/step\n",
            "Epoch 48/1000\n",
            "1349/1349 - 4s - loss: 626155.0625 - val_loss: 547298.2500 - 4s/epoch - 3ms/step\n",
            "Epoch 49/1000\n",
            "1349/1349 - 5s - loss: 623949.0625 - val_loss: 545460.5000 - 5s/epoch - 4ms/step\n",
            "Epoch 50/1000\n",
            "1349/1349 - 5s - loss: 618085.5000 - val_loss: 539026.5625 - 5s/epoch - 3ms/step\n",
            "Epoch 51/1000\n",
            "1349/1349 - 4s - loss: 613088.5625 - val_loss: 536438.0000 - 4s/epoch - 3ms/step\n",
            "Epoch 52/1000\n",
            "1349/1349 - 5s - loss: 607293.3125 - val_loss: 534947.8125 - 5s/epoch - 3ms/step\n",
            "Epoch 53/1000\n",
            "1349/1349 - 5s - loss: 603299.5625 - val_loss: 533704.8125 - 5s/epoch - 4ms/step\n",
            "Epoch 54/1000\n",
            "1349/1349 - 4s - loss: 599279.4375 - val_loss: 531382.7500 - 4s/epoch - 3ms/step\n",
            "Epoch 55/1000\n",
            "1349/1349 - 4s - loss: 594191.3750 - val_loss: 524895.1875 - 4s/epoch - 3ms/step\n",
            "Epoch 56/1000\n",
            "1349/1349 - 6s - loss: 589791.0000 - val_loss: 517733.0312 - 6s/epoch - 4ms/step\n",
            "Epoch 57/1000\n",
            "1349/1349 - 4s - loss: 584694.0625 - val_loss: 517283.4062 - 4s/epoch - 3ms/step\n",
            "Epoch 58/1000\n",
            "1349/1349 - 4s - loss: 580521.6875 - val_loss: 513532.0000 - 4s/epoch - 3ms/step\n",
            "Epoch 59/1000\n",
            "1349/1349 - 5s - loss: 578406.4375 - val_loss: 516507.9062 - 5s/epoch - 3ms/step\n",
            "Epoch 60/1000\n",
            "1349/1349 - 5s - loss: 573039.5625 - val_loss: 506931.4062 - 5s/epoch - 4ms/step\n",
            "Epoch 61/1000\n",
            "1349/1349 - 4s - loss: 568270.7500 - val_loss: 504689.0625 - 4s/epoch - 3ms/step\n",
            "Epoch 62/1000\n",
            "1349/1349 - 4s - loss: 564432.7500 - val_loss: 515496.8125 - 4s/epoch - 3ms/step\n",
            "Epoch 63/1000\n",
            "1349/1349 - 6s - loss: 560493.3750 - val_loss: 497410.5000 - 6s/epoch - 4ms/step\n",
            "Epoch 64/1000\n",
            "1349/1349 - 4s - loss: 555373.1875 - val_loss: 494540.9688 - 4s/epoch - 3ms/step\n",
            "Epoch 65/1000\n",
            "1349/1349 - 4s - loss: 552377.0000 - val_loss: 492938.9062 - 4s/epoch - 3ms/step\n",
            "Epoch 66/1000\n",
            "1349/1349 - 5s - loss: 549561.6875 - val_loss: 492726.2500 - 5s/epoch - 3ms/step\n",
            "Epoch 67/1000\n",
            "1349/1349 - 5s - loss: 542518.5625 - val_loss: 493352.9062 - 5s/epoch - 4ms/step\n",
            "Epoch 68/1000\n",
            "1349/1349 - 4s - loss: 539965.3125 - val_loss: 481772.5938 - 4s/epoch - 3ms/step\n",
            "Epoch 69/1000\n",
            "1349/1349 - 4s - loss: 535571.5000 - val_loss: 479133.9062 - 4s/epoch - 3ms/step\n",
            "Epoch 70/1000\n",
            "1349/1349 - 6s - loss: 531123.3750 - val_loss: 495187.0625 - 6s/epoch - 4ms/step\n",
            "Epoch 71/1000\n",
            "1349/1349 - 4s - loss: 528556.6250 - val_loss: 473847.2188 - 4s/epoch - 3ms/step\n",
            "Epoch 72/1000\n",
            "1349/1349 - 4s - loss: 525636.7500 - val_loss: 476081.3125 - 4s/epoch - 3ms/step\n",
            "Epoch 73/1000\n",
            "1349/1349 - 5s - loss: 522571.4062 - val_loss: 468924.4062 - 5s/epoch - 3ms/step\n",
            "Epoch 74/1000\n",
            "1349/1349 - 5s - loss: 518957.6562 - val_loss: 467928.9062 - 5s/epoch - 4ms/step\n",
            "Epoch 75/1000\n",
            "1349/1349 - 4s - loss: 514173.2812 - val_loss: 464270.4688 - 4s/epoch - 3ms/step\n",
            "Epoch 76/1000\n",
            "1349/1349 - 4s - loss: 512033.1875 - val_loss: 469247.2812 - 4s/epoch - 3ms/step\n",
            "Epoch 77/1000\n",
            "1349/1349 - 6s - loss: 508859.0938 - val_loss: 460646.7500 - 6s/epoch - 4ms/step\n",
            "Epoch 78/1000\n",
            "1349/1349 - 4s - loss: 505510.8125 - val_loss: 457826.9688 - 4s/epoch - 3ms/step\n",
            "Epoch 79/1000\n",
            "1349/1349 - 4s - loss: 502590.9688 - val_loss: 457200.2500 - 4s/epoch - 3ms/step\n",
            "Epoch 80/1000\n",
            "1349/1349 - 5s - loss: 499865.7812 - val_loss: 453517.5625 - 5s/epoch - 4ms/step\n",
            "Epoch 81/1000\n",
            "1349/1349 - 5s - loss: 494989.2500 - val_loss: 454025.8750 - 5s/epoch - 4ms/step\n",
            "Epoch 82/1000\n",
            "1349/1349 - 4s - loss: 493913.4688 - val_loss: 449917.0000 - 4s/epoch - 3ms/step\n",
            "Epoch 83/1000\n",
            "1349/1349 - 5s - loss: 492576.2812 - val_loss: 465308.7500 - 5s/epoch - 4ms/step\n",
            "Epoch 84/1000\n",
            "1349/1349 - 5s - loss: 488666.2188 - val_loss: 451444.4688 - 5s/epoch - 4ms/step\n",
            "Epoch 85/1000\n",
            "1349/1349 - 4s - loss: 485007.8125 - val_loss: 446963.0000 - 4s/epoch - 3ms/step\n",
            "Epoch 86/1000\n",
            "1349/1349 - 4s - loss: 484507.6562 - val_loss: 452365.8438 - 4s/epoch - 3ms/step\n",
            "Epoch 87/1000\n",
            "1349/1349 - 5s - loss: 483305.7812 - val_loss: 443737.6875 - 5s/epoch - 4ms/step\n",
            "Epoch 88/1000\n",
            "1349/1349 - 5s - loss: 479036.5000 - val_loss: 441421.2188 - 5s/epoch - 3ms/step\n",
            "Epoch 89/1000\n",
            "1349/1349 - 4s - loss: 477183.3750 - val_loss: 447666.9375 - 4s/epoch - 3ms/step\n",
            "Epoch 90/1000\n",
            "1349/1349 - 4s - loss: 475871.5000 - val_loss: 444933.8750 - 4s/epoch - 3ms/step\n",
            "Epoch 91/1000\n",
            "1349/1349 - 5s - loss: 474413.0000 - val_loss: 450762.8125 - 5s/epoch - 4ms/step\n",
            "Epoch 92/1000\n",
            "1349/1349 - 4s - loss: 473482.2188 - val_loss: 437816.8438 - 4s/epoch - 3ms/step\n",
            "Epoch 93/1000\n",
            "1349/1349 - 4s - loss: 470242.8750 - val_loss: 436986.1250 - 4s/epoch - 3ms/step\n",
            "Epoch 94/1000\n",
            "1349/1349 - 6s - loss: 468882.2188 - val_loss: 436158.4062 - 6s/epoch - 4ms/step\n",
            "Epoch 95/1000\n",
            "1349/1349 - 4s - loss: 468176.0312 - val_loss: 434883.7188 - 4s/epoch - 3ms/step\n",
            "Epoch 96/1000\n",
            "1349/1349 - 4s - loss: 465544.9688 - val_loss: 435191.5625 - 4s/epoch - 3ms/step\n",
            "Epoch 97/1000\n",
            "1349/1349 - 5s - loss: 464019.2812 - val_loss: 429682.5625 - 5s/epoch - 4ms/step\n",
            "Epoch 98/1000\n",
            "1349/1349 - 5s - loss: 463992.3438 - val_loss: 431118.0000 - 5s/epoch - 4ms/step\n",
            "Epoch 99/1000\n",
            "1349/1349 - 4s - loss: 460563.8750 - val_loss: 427557.8125 - 4s/epoch - 3ms/step\n",
            "Epoch 100/1000\n",
            "1349/1349 - 4s - loss: 459548.1562 - val_loss: 431865.9688 - 4s/epoch - 3ms/step\n",
            "Epoch 101/1000\n",
            "1349/1349 - 6s - loss: 457233.5938 - val_loss: 427135.6250 - 6s/epoch - 5ms/step\n",
            "Epoch 102/1000\n",
            "1349/1349 - 4s - loss: 456789.9062 - val_loss: 441388.3750 - 4s/epoch - 3ms/step\n",
            "Epoch 103/1000\n",
            "1349/1349 - 4s - loss: 454966.8125 - val_loss: 426251.0938 - 4s/epoch - 3ms/step\n",
            "Epoch 104/1000\n",
            "1349/1349 - 5s - loss: 454276.6562 - val_loss: 422838.6875 - 5s/epoch - 4ms/step\n",
            "Epoch 105/1000\n",
            "1349/1349 - 5s - loss: 452543.3125 - val_loss: 424283.2812 - 5s/epoch - 3ms/step\n",
            "Epoch 106/1000\n",
            "1349/1349 - 4s - loss: 451684.4375 - val_loss: 455876.6250 - 4s/epoch - 3ms/step\n",
            "Epoch 107/1000\n",
            "1349/1349 - 5s - loss: 450286.9062 - val_loss: 421407.5938 - 5s/epoch - 3ms/step\n",
            "Epoch 108/1000\n",
            "1349/1349 - 5s - loss: 449851.3750 - val_loss: 429379.9062 - 5s/epoch - 4ms/step\n",
            "Epoch 109/1000\n",
            "1349/1349 - 4s - loss: 448708.0000 - val_loss: 421846.5625 - 4s/epoch - 3ms/step\n",
            "Epoch 110/1000\n",
            "1349/1349 - 4s - loss: 446358.6250 - val_loss: 428178.7500 - 4s/epoch - 3ms/step\n",
            "Epoch 111/1000\n",
            "1349/1349 - 5s - loss: 445283.4688 - val_loss: 423912.0938 - 5s/epoch - 4ms/step\n",
            "Epoch 112/1000\n",
            "1349/1349 - 4s - loss: 443620.8438 - val_loss: 416554.3750 - 4s/epoch - 3ms/step\n",
            "Epoch 113/1000\n",
            "1349/1349 - 4s - loss: 443394.3750 - val_loss: 417786.7812 - 4s/epoch - 3ms/step\n",
            "Epoch 114/1000\n",
            "1349/1349 - 5s - loss: 442319.6875 - val_loss: 423109.5625 - 5s/epoch - 4ms/step\n",
            "Epoch 115/1000\n",
            "1349/1349 - 5s - loss: 440687.9688 - val_loss: 413255.6250 - 5s/epoch - 4ms/step\n",
            "Epoch 116/1000\n",
            "1349/1349 - 4s - loss: 439914.7500 - val_loss: 412054.1562 - 4s/epoch - 3ms/step\n",
            "Epoch 117/1000\n",
            "1349/1349 - 4s - loss: 438902.6875 - val_loss: 412951.4062 - 4s/epoch - 3ms/step\n",
            "Epoch 118/1000\n",
            "1349/1349 - 6s - loss: 439204.8438 - val_loss: 414551.4688 - 6s/epoch - 4ms/step\n",
            "Epoch 119/1000\n",
            "1349/1349 - 4s - loss: 437199.3125 - val_loss: 409552.7812 - 4s/epoch - 3ms/step\n",
            "Epoch 120/1000\n",
            "1349/1349 - 4s - loss: 436916.6875 - val_loss: 410414.5625 - 4s/epoch - 3ms/step\n",
            "Epoch 121/1000\n",
            "1349/1349 - 5s - loss: 435177.3750 - val_loss: 421988.7500 - 5s/epoch - 4ms/step\n",
            "Epoch 122/1000\n",
            "1349/1349 - 5s - loss: 436267.2500 - val_loss: 417037.4375 - 5s/epoch - 3ms/step\n",
            "Epoch 123/1000\n",
            "1349/1349 - 4s - loss: 433672.1250 - val_loss: 410747.2500 - 4s/epoch - 3ms/step\n",
            "Epoch 124/1000\n",
            "1349/1349 - 4s - loss: 434530.4688 - val_loss: 407160.9688 - 4s/epoch - 3ms/step\n",
            "Epoch 125/1000\n",
            "1349/1349 - 6s - loss: 431920.3125 - val_loss: 404962.0000 - 6s/epoch - 4ms/step\n",
            "Epoch 126/1000\n",
            "1349/1349 - 4s - loss: 432155.1562 - val_loss: 416305.8750 - 4s/epoch - 3ms/step\n",
            "Epoch 127/1000\n",
            "1349/1349 - 4s - loss: 430592.4375 - val_loss: 403155.6250 - 4s/epoch - 3ms/step\n",
            "Epoch 128/1000\n",
            "1349/1349 - 5s - loss: 429194.5312 - val_loss: 403931.5000 - 5s/epoch - 4ms/step\n",
            "Epoch 129/1000\n",
            "1349/1349 - 5s - loss: 430216.0312 - val_loss: 411038.1250 - 5s/epoch - 4ms/step\n",
            "Epoch 130/1000\n",
            "1349/1349 - 4s - loss: 427102.7188 - val_loss: 419525.8750 - 4s/epoch - 3ms/step\n",
            "Epoch 131/1000\n",
            "1349/1349 - 4s - loss: 428897.9688 - val_loss: 402624.4375 - 4s/epoch - 3ms/step\n",
            "Epoch 132/1000\n",
            "1349/1349 - 6s - loss: 426923.3438 - val_loss: 402878.2812 - 6s/epoch - 4ms/step\n",
            "Epoch 133/1000\n",
            "1349/1349 - 4s - loss: 425652.2500 - val_loss: 435030.1875 - 4s/epoch - 3ms/step\n",
            "Epoch 134/1000\n",
            "1349/1349 - 4s - loss: 426367.7500 - val_loss: 415553.3125 - 4s/epoch - 3ms/step\n",
            "Epoch 135/1000\n",
            "1349/1349 - 5s - loss: 424439.2812 - val_loss: 399615.1875 - 5s/epoch - 3ms/step\n",
            "Epoch 136/1000\n",
            "1349/1349 - 5s - loss: 425810.2812 - val_loss: 407348.8750 - 5s/epoch - 4ms/step\n",
            "Epoch 137/1000\n",
            "1349/1349 - 4s - loss: 424279.0938 - val_loss: 426655.0938 - 4s/epoch - 3ms/step\n",
            "Epoch 138/1000\n",
            "1349/1349 - 4s - loss: 423205.5938 - val_loss: 399281.1250 - 4s/epoch - 3ms/step\n",
            "Epoch 139/1000\n",
            "1349/1349 - 6s - loss: 422439.8125 - val_loss: 400541.9062 - 6s/epoch - 4ms/step\n",
            "Epoch 140/1000\n",
            "1349/1349 - 4s - loss: 420905.0000 - val_loss: 404530.9688 - 4s/epoch - 3ms/step\n",
            "Epoch 141/1000\n",
            "1349/1349 - 4s - loss: 419410.7188 - val_loss: 399870.4688 - 4s/epoch - 3ms/step\n",
            "Epoch 142/1000\n",
            "1349/1349 - 5s - loss: 418700.6562 - val_loss: 395982.0625 - 5s/epoch - 4ms/step\n",
            "Epoch 143/1000\n",
            "1349/1349 - 5s - loss: 418592.1250 - val_loss: 393571.5625 - 5s/epoch - 4ms/step\n",
            "Epoch 144/1000\n",
            "1349/1349 - 4s - loss: 418348.9062 - val_loss: 393892.2500 - 4s/epoch - 3ms/step\n",
            "Epoch 145/1000\n",
            "1349/1349 - 4s - loss: 417688.3125 - val_loss: 404390.2188 - 4s/epoch - 3ms/step\n",
            "Epoch 146/1000\n",
            "1349/1349 - 6s - loss: 416955.0312 - val_loss: 407947.7188 - 6s/epoch - 4ms/step\n",
            "Epoch 147/1000\n",
            "1349/1349 - 4s - loss: 416467.8750 - val_loss: 392977.8125 - 4s/epoch - 3ms/step\n",
            "Epoch 148/1000\n",
            "1349/1349 - 4s - loss: 414824.0938 - val_loss: 397630.6562 - 4s/epoch - 3ms/step\n",
            "Epoch 149/1000\n",
            "1349/1349 - 5s - loss: 415337.5938 - val_loss: 392862.0312 - 5s/epoch - 4ms/step\n",
            "Epoch 150/1000\n",
            "1349/1349 - 5s - loss: 414980.0312 - val_loss: 391489.5312 - 5s/epoch - 3ms/step\n",
            "Epoch 151/1000\n",
            "1349/1349 - 4s - loss: 414015.4062 - val_loss: 406554.6875 - 4s/epoch - 3ms/step\n",
            "Epoch 152/1000\n",
            "1349/1349 - 4s - loss: 411921.9375 - val_loss: 406359.9062 - 4s/epoch - 3ms/step\n",
            "Epoch 153/1000\n",
            "1349/1349 - 6s - loss: 411460.0625 - val_loss: 388143.8750 - 6s/epoch - 5ms/step\n",
            "Epoch 154/1000\n",
            "1349/1349 - 4s - loss: 411425.1875 - val_loss: 409420.0312 - 4s/epoch - 3ms/step\n",
            "Epoch 155/1000\n",
            "1349/1349 - 4s - loss: 411659.0938 - val_loss: 390005.7812 - 4s/epoch - 3ms/step\n",
            "Epoch 156/1000\n",
            "1349/1349 - 5s - loss: 408893.4688 - val_loss: 389948.3125 - 5s/epoch - 4ms/step\n",
            "Epoch 157/1000\n",
            "1349/1349 - 4s - loss: 409486.4375 - val_loss: 387093.2500 - 4s/epoch - 3ms/step\n",
            "Epoch 158/1000\n",
            "1349/1349 - 4s - loss: 409850.7812 - val_loss: 385621.6250 - 4s/epoch - 3ms/step\n",
            "Epoch 159/1000\n",
            "1349/1349 - 5s - loss: 408032.1875 - val_loss: 386371.5938 - 5s/epoch - 3ms/step\n",
            "Epoch 160/1000\n",
            "1349/1349 - 5s - loss: 407575.4375 - val_loss: 392354.5938 - 5s/epoch - 4ms/step\n",
            "Epoch 161/1000\n",
            "1349/1349 - 4s - loss: 409498.6250 - val_loss: 387262.5312 - 4s/epoch - 3ms/step\n",
            "Epoch 162/1000\n",
            "1349/1349 - 4s - loss: 406236.2500 - val_loss: 391336.3125 - 4s/epoch - 3ms/step\n",
            "Epoch 163/1000\n",
            "Restoring model weights from the end of the best epoch: 158.\n",
            "1349/1349 - 5s - loss: 407246.6562 - val_loss: 387973.3125 - 5s/epoch - 4ms/step\n",
            "Epoch 163: early stopping\n"
          ]
        },
        {
          "output_type": "execute_result",
          "data": {
            "text/plain": [
              "<keras.src.callbacks.History at 0x7eef081a9ed0>"
            ]
          },
          "metadata": {},
          "execution_count": 52
        }
      ]
    },
    {
      "cell_type": "code",
      "source": [
        "prediction = model.predict(X_test)\n",
        "score = np.sqrt(metrics.mean_squared_error(prediction, y_test))\n",
        "print(f'After training the score is: {score}')"
      ],
      "metadata": {
        "colab": {
          "base_uri": "https://localhost:8080/"
        },
        "id": "4fXlfnJaSRT6",
        "outputId": "98f88dda-a682-41ea-eb84-104fd69cda5f"
      },
      "execution_count": 53,
      "outputs": [
        {
          "output_type": "stream",
          "name": "stdout",
          "text": [
            "338/338 [==============================] - 1s 2ms/step\n",
            "After training the score is: 620.9844693376593\n"
          ]
        }
      ]
    },
    {
      "cell_type": "code",
      "source": [
        "col = [x for x in data.columns if x not in ('price')]\n",
        "\n",
        "# Normal loop way\n",
        "print('{')\n",
        "for i, name in enumerate(col):\n",
        "    print(f'\"{name}\":{{\"min\":{data[name].min()}, \"max\":{data[name].max()}}}{\",\" if i < (len(col)-1) else \"\"}')\n",
        "print('}')"
      ],
      "metadata": {
        "colab": {
          "base_uri": "https://localhost:8080/"
        },
        "id": "We2ZVAJZSRRk",
        "outputId": "e7398755-e67b-42f3-f115-cf98a2bf40a9"
      },
      "execution_count": 54,
      "outputs": [
        {
          "output_type": "stream",
          "name": "stdout",
          "text": [
            "{\n",
            "\"carat\":{\"min\":0.2, \"max\":5.01},\n",
            "\"depth\":{\"min\":43.0, \"max\":79.0},\n",
            "\"table\":{\"min\":43.0, \"max\":95.0},\n",
            "\"x\":{\"min\":0.0, \"max\":10.74},\n",
            "\"y\":{\"min\":0.0, \"max\":58.9},\n",
            "\"z\":{\"min\":0.0, \"max\":31.8},\n",
            "\"cut_Fair\":{\"min\":0, \"max\":1},\n",
            "\"cut_Good\":{\"min\":0, \"max\":1},\n",
            "\"cut_Ideal\":{\"min\":0, \"max\":1},\n",
            "\"cut_Premium\":{\"min\":0, \"max\":1},\n",
            "\"cut_Very Good\":{\"min\":0, \"max\":1},\n",
            "\"color_D\":{\"min\":0, \"max\":1},\n",
            "\"color_E\":{\"min\":0, \"max\":1},\n",
            "\"color_F\":{\"min\":0, \"max\":1},\n",
            "\"color_G\":{\"min\":0, \"max\":1},\n",
            "\"color_H\":{\"min\":0, \"max\":1},\n",
            "\"color_I\":{\"min\":0, \"max\":1},\n",
            "\"color_J\":{\"min\":0, \"max\":1},\n",
            "\"clarity_I1\":{\"min\":0, \"max\":1},\n",
            "\"clarity_IF\":{\"min\":0, \"max\":1},\n",
            "\"clarity_SI1\":{\"min\":0, \"max\":1},\n",
            "\"clarity_SI2\":{\"min\":0, \"max\":1},\n",
            "\"clarity_VS1\":{\"min\":0, \"max\":1},\n",
            "\"clarity_VS2\":{\"min\":0, \"max\":1},\n",
            "\"clarity_VVS1\":{\"min\":0, \"max\":1},\n",
            "\"clarity_VVS2\":{\"min\":0, \"max\":1}\n",
            "}\n"
          ]
        }
      ]
    },
    {
      "cell_type": "code",
      "source": [
        "model.save('diamond.h5')"
      ],
      "metadata": {
        "colab": {
          "base_uri": "https://localhost:8080/"
        },
        "id": "5EHlUV9XSRPi",
        "outputId": "d23f9c67-9823-4c5b-b79d-89fd0758adfa"
      },
      "execution_count": 55,
      "outputs": [
        {
          "output_type": "stream",
          "name": "stderr",
          "text": [
            "/usr/local/lib/python3.10/dist-packages/keras/src/engine/training.py:3079: UserWarning: You are saving your model as an HDF5 file via `model.save()`. This file format is considered legacy. We recommend using instead the native Keras format, e.g. `model.save('my_model.keras')`.\n",
            "  saving_api.save_model(\n"
          ]
        }
      ]
    },
    {
      "cell_type": "code",
      "source": [
        "model.summary()"
      ],
      "metadata": {
        "colab": {
          "base_uri": "https://localhost:8080/"
        },
        "id": "FRZk87NgSRNc",
        "outputId": "06f07a2f-4ca7-40ca-87f9-37d0468a39fb"
      },
      "execution_count": 56,
      "outputs": [
        {
          "output_type": "stream",
          "name": "stdout",
          "text": [
            "Model: \"sequential\"\n",
            "_________________________________________________________________\n",
            " Layer (type)                Output Shape              Param #   \n",
            "=================================================================\n",
            " dense (Dense)               (None, 25)                675       \n",
            "                                                                 \n",
            " dense_1 (Dense)             (None, 10)                260       \n",
            "                                                                 \n",
            " dense_2 (Dense)             (None, 1)                 11        \n",
            "                                                                 \n",
            "=================================================================\n",
            "Total params: 946 (3.70 KB)\n",
            "Trainable params: 946 (3.70 KB)\n",
            "Non-trainable params: 0 (0.00 Byte)\n",
            "_________________________________________________________________\n"
          ]
        }
      ]
    },
    {
      "cell_type": "code",
      "source": [
        "from keras.utils import plot_model\n",
        "plot_model(model, show_shapes=True)"
      ],
      "metadata": {
        "colab": {
          "base_uri": "https://localhost:8080/",
          "height": 422
        },
        "id": "HLWfGQlvSRLH",
        "outputId": "5f888bad-3af7-4c1d-c1d0-524bf4ec2bd9"
      },
      "execution_count": 57,
      "outputs": [
        {
          "output_type": "execute_result",
          "data": {
            "image/png": "[encoded data removed]",
            "text/plain": [
              "<IPython.core.display.Image object>"
            ]
          },
          "metadata": {},
          "execution_count": 57
        }
      ]
    },
    {
      "cell_type": "code",
      "source": [
        "#data.loc[10]-->price = 339.0\n",
        "\n",
        "test_x = np.zeros((1, 26))\n",
        "\n",
        "test_x[0, 0] = 0.30     # carat\n",
        "test_x[0, 1] = 64.00    # depth\n",
        "test_x[0, 2] = 55.00    # table\n",
        "test_x[0, 3] = 4.25     # x\n",
        "test_x[0, 4] = 4.28     # y\n",
        "test_x[0, 5] = 2.73     # z\n",
        "test_x[0, 6] = 0.00     # cut_Fair\n",
        "test_x[0, 7] = 1.00     # cut_Good\n",
        "test_x[0, 8] = 0.00     # cut_Ideal\n",
        "test_x[0, 9] = 0.00     # cut_Premium\n",
        "test_x[0, 10] = 0.00    # cut_Very Good\n",
        "test_x[0, 11] = 0.00    # color_D\n",
        "test_x[0, 12] = 0.00    # color_E\n",
        "test_x[0, 13] = 0.00    # color_F\n",
        "test_x[0, 14] = 0.00    # color_G\n",
        "test_x[0, 15] = 0.00    # color_H\n",
        "test_x[0, 16] = 0.00    # color_I\n",
        "test_x[0, 17] = 1.00    # color_J\n",
        "test_x[0, 18] = 0.00    # clarity_I1\n",
        "test_x[0, 19] = 0.00    # clarity_IF\n",
        "test_x[0, 20] = 1.00    # clarity_SI1\n",
        "test_x[0, 21] = 0.00    # clarity_SI2\n",
        "test_x[0, 22] = 0.00    # clarity_VS1\n",
        "test_x[0, 23] = 0.00    # clarity_VS2\n",
        "test_x[0, 24] = 0.00    # clarity_VVS1\n",
        "test_x[0, 25] = 0.00    # clarity_VVS2\n",
        "test_x\n"
      ],
      "metadata": {
        "colab": {
          "base_uri": "https://localhost:8080/"
        },
        "id": "b31DNeH6SRI-",
        "outputId": "92ab058f-d391-4e7f-8359-f93e21794a4f"
      },
      "execution_count": 58,
      "outputs": [
        {
          "output_type": "execute_result",
          "data": {
            "text/plain": [
              "array([[ 0.3 , 64.  , 55.  ,  4.25,  4.28,  2.73,  0.  ,  1.  ,  0.  ,\n",
              "         0.  ,  0.  ,  0.  ,  0.  ,  0.  ,  0.  ,  0.  ,  0.  ,  1.  ,\n",
              "         0.  ,  0.  ,  1.  ,  0.  ,  0.  ,  0.  ,  0.  ,  0.  ]])"
            ]
          },
          "metadata": {},
          "execution_count": 58
        }
      ]
    },
    {
      "cell_type": "code",
      "source": [
        "prediction = model.predict(test_x)\n",
        "round(float(prediction[0]), 2)"
      ],
      "metadata": {
        "colab": {
          "base_uri": "https://localhost:8080/"
        },
        "id": "f72KHh1jVnxv",
        "outputId": "73f14266-d9e3-46cb-e9c3-d775cec451c2"
      },
      "execution_count": 59,
      "outputs": [
        {
          "output_type": "stream",
          "name": "stdout",
          "text": [
            "1/1 [==============================] - 0s 50ms/step\n"
          ]
        },
        {
          "output_type": "execute_result",
          "data": {
            "text/plain": [
              "603.99"
            ]
          },
          "metadata": {},
          "execution_count": 59
        }
      ]
    }
  ]
}